{
 "cells": [
  {
   "cell_type": "markdown",
   "id": "b01e64cc",
   "metadata": {},
   "source": [
    "# Import Dependencies"
   ]
  },
  {
   "cell_type": "markdown",
   "id": "fe6ce7bc",
   "metadata": {},
   "source": [
    "Import relevant Python libraries and packages: `numpy`, `pandas`, `seaborn`, and `pyplot` from `matplotlib`."
   ]
  },
  {
   "cell_type": "code",
   "execution_count": 1,
   "id": "a3bedffd",
   "metadata": {},
   "outputs": [],
   "source": [
    "# Import Libraries and Packages\n",
    "\n",
    "import pandas as pd\n",
    "import numpy as np\n",
    "import datetime\n",
    "from time import strftime\n",
    "import matplotlib.pyplot as plt\n",
    "%matplotlib inline\n",
    "\n",
    "import seaborn as sns"
   ]
  },
  {
   "cell_type": "markdown",
   "id": "dfb11662",
   "metadata": {},
   "source": [
    "## Load the dataset "
   ]
  },
  {
   "cell_type": "code",
   "execution_count": 2,
   "id": "4e527e89",
   "metadata": {},
   "outputs": [
    {
     "data": {
      "text/html": [
       "<div>\n",
       "<style scoped>\n",
       "    .dataframe tbody tr th:only-of-type {\n",
       "        vertical-align: middle;\n",
       "    }\n",
       "\n",
       "    .dataframe tbody tr th {\n",
       "        vertical-align: top;\n",
       "    }\n",
       "\n",
       "    .dataframe thead th {\n",
       "        text-align: right;\n",
       "    }\n",
       "</style>\n",
       "<table border=\"1\" class=\"dataframe\">\n",
       "  <thead>\n",
       "    <tr style=\"text-align: right;\">\n",
       "      <th></th>\n",
       "      <th>PatientId</th>\n",
       "      <th>AppointmentID</th>\n",
       "      <th>Gender</th>\n",
       "      <th>ScheduledDay</th>\n",
       "      <th>AppointmentDay</th>\n",
       "      <th>Age</th>\n",
       "      <th>Neighbourhood</th>\n",
       "      <th>Scholarship</th>\n",
       "      <th>Hipertension</th>\n",
       "      <th>Diabetes</th>\n",
       "      <th>Alcoholism</th>\n",
       "      <th>Handcap</th>\n",
       "      <th>SMS_received</th>\n",
       "      <th>No-show</th>\n",
       "    </tr>\n",
       "  </thead>\n",
       "  <tbody>\n",
       "    <tr>\n",
       "      <th>0</th>\n",
       "      <td>2.987250e+13</td>\n",
       "      <td>5642903</td>\n",
       "      <td>F</td>\n",
       "      <td>2016-04-29T18:38:08Z</td>\n",
       "      <td>2016-04-29T00:00:00Z</td>\n",
       "      <td>62</td>\n",
       "      <td>JARDIM DA PENHA</td>\n",
       "      <td>0</td>\n",
       "      <td>1</td>\n",
       "      <td>0</td>\n",
       "      <td>0</td>\n",
       "      <td>0</td>\n",
       "      <td>0</td>\n",
       "      <td>No</td>\n",
       "    </tr>\n",
       "    <tr>\n",
       "      <th>1</th>\n",
       "      <td>5.589978e+14</td>\n",
       "      <td>5642503</td>\n",
       "      <td>M</td>\n",
       "      <td>2016-04-29T16:08:27Z</td>\n",
       "      <td>2016-04-29T00:00:00Z</td>\n",
       "      <td>56</td>\n",
       "      <td>JARDIM DA PENHA</td>\n",
       "      <td>0</td>\n",
       "      <td>0</td>\n",
       "      <td>0</td>\n",
       "      <td>0</td>\n",
       "      <td>0</td>\n",
       "      <td>0</td>\n",
       "      <td>No</td>\n",
       "    </tr>\n",
       "    <tr>\n",
       "      <th>2</th>\n",
       "      <td>4.262962e+12</td>\n",
       "      <td>5642549</td>\n",
       "      <td>F</td>\n",
       "      <td>2016-04-29T16:19:04Z</td>\n",
       "      <td>2016-04-29T00:00:00Z</td>\n",
       "      <td>62</td>\n",
       "      <td>MATA DA PRAIA</td>\n",
       "      <td>0</td>\n",
       "      <td>0</td>\n",
       "      <td>0</td>\n",
       "      <td>0</td>\n",
       "      <td>0</td>\n",
       "      <td>0</td>\n",
       "      <td>No</td>\n",
       "    </tr>\n",
       "    <tr>\n",
       "      <th>3</th>\n",
       "      <td>8.679512e+11</td>\n",
       "      <td>5642828</td>\n",
       "      <td>F</td>\n",
       "      <td>2016-04-29T17:29:31Z</td>\n",
       "      <td>2016-04-29T00:00:00Z</td>\n",
       "      <td>8</td>\n",
       "      <td>PONTAL DE CAMBURI</td>\n",
       "      <td>0</td>\n",
       "      <td>0</td>\n",
       "      <td>0</td>\n",
       "      <td>0</td>\n",
       "      <td>0</td>\n",
       "      <td>0</td>\n",
       "      <td>No</td>\n",
       "    </tr>\n",
       "    <tr>\n",
       "      <th>4</th>\n",
       "      <td>8.841186e+12</td>\n",
       "      <td>5642494</td>\n",
       "      <td>F</td>\n",
       "      <td>2016-04-29T16:07:23Z</td>\n",
       "      <td>2016-04-29T00:00:00Z</td>\n",
       "      <td>56</td>\n",
       "      <td>JARDIM DA PENHA</td>\n",
       "      <td>0</td>\n",
       "      <td>1</td>\n",
       "      <td>1</td>\n",
       "      <td>0</td>\n",
       "      <td>0</td>\n",
       "      <td>0</td>\n",
       "      <td>No</td>\n",
       "    </tr>\n",
       "    <tr>\n",
       "      <th>5</th>\n",
       "      <td>9.598513e+13</td>\n",
       "      <td>5626772</td>\n",
       "      <td>F</td>\n",
       "      <td>2016-04-27T08:36:51Z</td>\n",
       "      <td>2016-04-29T00:00:00Z</td>\n",
       "      <td>76</td>\n",
       "      <td>REPÚBLICA</td>\n",
       "      <td>0</td>\n",
       "      <td>1</td>\n",
       "      <td>0</td>\n",
       "      <td>0</td>\n",
       "      <td>0</td>\n",
       "      <td>0</td>\n",
       "      <td>No</td>\n",
       "    </tr>\n",
       "    <tr>\n",
       "      <th>6</th>\n",
       "      <td>7.336882e+14</td>\n",
       "      <td>5630279</td>\n",
       "      <td>F</td>\n",
       "      <td>2016-04-27T15:05:12Z</td>\n",
       "      <td>2016-04-29T00:00:00Z</td>\n",
       "      <td>23</td>\n",
       "      <td>GOIABEIRAS</td>\n",
       "      <td>0</td>\n",
       "      <td>0</td>\n",
       "      <td>0</td>\n",
       "      <td>0</td>\n",
       "      <td>0</td>\n",
       "      <td>0</td>\n",
       "      <td>Yes</td>\n",
       "    </tr>\n",
       "    <tr>\n",
       "      <th>7</th>\n",
       "      <td>3.449833e+12</td>\n",
       "      <td>5630575</td>\n",
       "      <td>F</td>\n",
       "      <td>2016-04-27T15:39:58Z</td>\n",
       "      <td>2016-04-29T00:00:00Z</td>\n",
       "      <td>39</td>\n",
       "      <td>GOIABEIRAS</td>\n",
       "      <td>0</td>\n",
       "      <td>0</td>\n",
       "      <td>0</td>\n",
       "      <td>0</td>\n",
       "      <td>0</td>\n",
       "      <td>0</td>\n",
       "      <td>Yes</td>\n",
       "    </tr>\n",
       "    <tr>\n",
       "      <th>8</th>\n",
       "      <td>5.639473e+13</td>\n",
       "      <td>5638447</td>\n",
       "      <td>F</td>\n",
       "      <td>2016-04-29T08:02:16Z</td>\n",
       "      <td>2016-04-29T00:00:00Z</td>\n",
       "      <td>21</td>\n",
       "      <td>ANDORINHAS</td>\n",
       "      <td>0</td>\n",
       "      <td>0</td>\n",
       "      <td>0</td>\n",
       "      <td>0</td>\n",
       "      <td>0</td>\n",
       "      <td>0</td>\n",
       "      <td>No</td>\n",
       "    </tr>\n",
       "    <tr>\n",
       "      <th>9</th>\n",
       "      <td>7.812456e+13</td>\n",
       "      <td>5629123</td>\n",
       "      <td>F</td>\n",
       "      <td>2016-04-27T12:48:25Z</td>\n",
       "      <td>2016-04-29T00:00:00Z</td>\n",
       "      <td>19</td>\n",
       "      <td>CONQUISTA</td>\n",
       "      <td>0</td>\n",
       "      <td>0</td>\n",
       "      <td>0</td>\n",
       "      <td>0</td>\n",
       "      <td>0</td>\n",
       "      <td>0</td>\n",
       "      <td>No</td>\n",
       "    </tr>\n",
       "  </tbody>\n",
       "</table>\n",
       "</div>"
      ],
      "text/plain": [
       "      PatientId  AppointmentID Gender          ScheduledDay  \\\n",
       "0  2.987250e+13        5642903      F  2016-04-29T18:38:08Z   \n",
       "1  5.589978e+14        5642503      M  2016-04-29T16:08:27Z   \n",
       "2  4.262962e+12        5642549      F  2016-04-29T16:19:04Z   \n",
       "3  8.679512e+11        5642828      F  2016-04-29T17:29:31Z   \n",
       "4  8.841186e+12        5642494      F  2016-04-29T16:07:23Z   \n",
       "5  9.598513e+13        5626772      F  2016-04-27T08:36:51Z   \n",
       "6  7.336882e+14        5630279      F  2016-04-27T15:05:12Z   \n",
       "7  3.449833e+12        5630575      F  2016-04-27T15:39:58Z   \n",
       "8  5.639473e+13        5638447      F  2016-04-29T08:02:16Z   \n",
       "9  7.812456e+13        5629123      F  2016-04-27T12:48:25Z   \n",
       "\n",
       "         AppointmentDay  Age      Neighbourhood  Scholarship  Hipertension  \\\n",
       "0  2016-04-29T00:00:00Z   62    JARDIM DA PENHA            0             1   \n",
       "1  2016-04-29T00:00:00Z   56    JARDIM DA PENHA            0             0   \n",
       "2  2016-04-29T00:00:00Z   62      MATA DA PRAIA            0             0   \n",
       "3  2016-04-29T00:00:00Z    8  PONTAL DE CAMBURI            0             0   \n",
       "4  2016-04-29T00:00:00Z   56    JARDIM DA PENHA            0             1   \n",
       "5  2016-04-29T00:00:00Z   76          REPÚBLICA            0             1   \n",
       "6  2016-04-29T00:00:00Z   23         GOIABEIRAS            0             0   \n",
       "7  2016-04-29T00:00:00Z   39         GOIABEIRAS            0             0   \n",
       "8  2016-04-29T00:00:00Z   21         ANDORINHAS            0             0   \n",
       "9  2016-04-29T00:00:00Z   19          CONQUISTA            0             0   \n",
       "\n",
       "   Diabetes  Alcoholism  Handcap  SMS_received No-show  \n",
       "0         0           0        0             0      No  \n",
       "1         0           0        0             0      No  \n",
       "2         0           0        0             0      No  \n",
       "3         0           0        0             0      No  \n",
       "4         1           0        0             0      No  \n",
       "5         0           0        0             0      No  \n",
       "6         0           0        0             0     Yes  \n",
       "7         0           0        0             0     Yes  \n",
       "8         0           0        0             0      No  \n",
       "9         0           0        0             0      No  "
      ]
     },
     "execution_count": 2,
     "metadata": {},
     "output_type": "execute_result"
    }
   ],
   "source": [
    "# import data \n",
    "medical_appointments = pd.read_csv('/Users/islamiahgbajumo/Desktop/Medical_Appointments_Data.csv')\n",
    "\n",
    "# display first ten rows. \n",
    "medical_appointments.head(10)"
   ]
  },
  {
   "cell_type": "markdown",
   "id": "72c9ee33",
   "metadata": {},
   "source": [
    "## Discover what is in the Data "
   ]
  },
  {
   "cell_type": "code",
   "execution_count": 3,
   "id": "21e3edc0",
   "metadata": {},
   "outputs": [
    {
     "data": {
      "text/plain": [
       "1547378"
      ]
     },
     "execution_count": 3,
     "metadata": {},
     "output_type": "execute_result"
    }
   ],
   "source": [
    "# how large the dataset is \n",
    "medical_appointments.size "
   ]
  },
  {
   "cell_type": "code",
   "execution_count": 4,
   "id": "ebb4030c",
   "metadata": {},
   "outputs": [
    {
     "data": {
      "text/plain": [
       "(110527, 14)"
      ]
     },
     "execution_count": 4,
     "metadata": {},
     "output_type": "execute_result"
    }
   ],
   "source": [
    "# Shape/Dimension of dataset \n",
    "medical_appointments.shape "
   ]
  },
  {
   "cell_type": "markdown",
   "id": "6ca952d5",
   "metadata": {},
   "source": [
    "- There are 110527 rows and 14 columns "
   ]
  },
  {
   "cell_type": "code",
   "execution_count": 5,
   "id": "d410aebd",
   "metadata": {},
   "outputs": [
    {
     "name": "stdout",
     "output_type": "stream",
     "text": [
      "<class 'pandas.core.frame.DataFrame'>\n",
      "RangeIndex: 110527 entries, 0 to 110526\n",
      "Data columns (total 14 columns):\n",
      " #   Column          Non-Null Count   Dtype  \n",
      "---  ------          --------------   -----  \n",
      " 0   PatientId       110527 non-null  float64\n",
      " 1   AppointmentID   110527 non-null  int64  \n",
      " 2   Gender          110527 non-null  object \n",
      " 3   ScheduledDay    110527 non-null  object \n",
      " 4   AppointmentDay  110527 non-null  object \n",
      " 5   Age             110527 non-null  int64  \n",
      " 6   Neighbourhood   110527 non-null  object \n",
      " 7   Scholarship     110527 non-null  int64  \n",
      " 8   Hipertension    110527 non-null  int64  \n",
      " 9   Diabetes        110527 non-null  int64  \n",
      " 10  Alcoholism      110527 non-null  int64  \n",
      " 11  Handcap         110527 non-null  int64  \n",
      " 12  SMS_received    110527 non-null  int64  \n",
      " 13  No-show         110527 non-null  object \n",
      "dtypes: float64(1), int64(8), object(5)\n",
      "memory usage: 11.8+ MB\n"
     ]
    }
   ],
   "source": [
    "# Basic information about the dataset \n",
    "medical_appointments.info()"
   ]
  },
  {
   "cell_type": "code",
   "execution_count": 6,
   "id": "b7e78891",
   "metadata": {},
   "outputs": [
    {
     "data": {
      "text/plain": [
       "0"
      ]
     },
     "execution_count": 6,
     "metadata": {},
     "output_type": "execute_result"
    }
   ],
   "source": [
    "# checking for duplicates \n",
    "medical_appointments.duplicated().sum()"
   ]
  },
  {
   "cell_type": "code",
   "execution_count": 7,
   "id": "a8761e78",
   "metadata": {},
   "outputs": [
    {
     "data": {
      "text/plain": [
       "PatientId          62299\n",
       "AppointmentID     110527\n",
       "Gender                 2\n",
       "ScheduledDay      103549\n",
       "AppointmentDay        27\n",
       "Age                  104\n",
       "Neighbourhood         81\n",
       "Scholarship            2\n",
       "Hipertension           2\n",
       "Diabetes               2\n",
       "Alcoholism             2\n",
       "Handcap                5\n",
       "SMS_received           2\n",
       "No-show                2\n",
       "dtype: int64"
      ]
     },
     "execution_count": 7,
     "metadata": {},
     "output_type": "execute_result"
    }
   ],
   "source": [
    "# exploring the unique values of each column \n",
    "medical_appointments.nunique()"
   ]
  },
  {
   "cell_type": "code",
   "execution_count": 8,
   "id": "b31b9b2b",
   "metadata": {},
   "outputs": [
    {
     "data": {
      "text/html": [
       "<div>\n",
       "<style scoped>\n",
       "    .dataframe tbody tr th:only-of-type {\n",
       "        vertical-align: middle;\n",
       "    }\n",
       "\n",
       "    .dataframe tbody tr th {\n",
       "        vertical-align: top;\n",
       "    }\n",
       "\n",
       "    .dataframe thead th {\n",
       "        text-align: right;\n",
       "    }\n",
       "</style>\n",
       "<table border=\"1\" class=\"dataframe\">\n",
       "  <thead>\n",
       "    <tr style=\"text-align: right;\">\n",
       "      <th></th>\n",
       "      <th>PatientId</th>\n",
       "      <th>AppointmentID</th>\n",
       "      <th>Age</th>\n",
       "      <th>Scholarship</th>\n",
       "      <th>Hipertension</th>\n",
       "      <th>Diabetes</th>\n",
       "      <th>Alcoholism</th>\n",
       "      <th>Handcap</th>\n",
       "      <th>SMS_received</th>\n",
       "    </tr>\n",
       "  </thead>\n",
       "  <tbody>\n",
       "    <tr>\n",
       "      <th>count</th>\n",
       "      <td>1.105270e+05</td>\n",
       "      <td>1.105270e+05</td>\n",
       "      <td>110527.000000</td>\n",
       "      <td>110527.000000</td>\n",
       "      <td>110527.000000</td>\n",
       "      <td>110527.000000</td>\n",
       "      <td>110527.000000</td>\n",
       "      <td>110527.000000</td>\n",
       "      <td>110527.000000</td>\n",
       "    </tr>\n",
       "    <tr>\n",
       "      <th>mean</th>\n",
       "      <td>1.474963e+14</td>\n",
       "      <td>5.675305e+06</td>\n",
       "      <td>37.088874</td>\n",
       "      <td>0.098266</td>\n",
       "      <td>0.197246</td>\n",
       "      <td>0.071865</td>\n",
       "      <td>0.030400</td>\n",
       "      <td>0.022248</td>\n",
       "      <td>0.321026</td>\n",
       "    </tr>\n",
       "    <tr>\n",
       "      <th>std</th>\n",
       "      <td>2.560949e+14</td>\n",
       "      <td>7.129575e+04</td>\n",
       "      <td>23.110205</td>\n",
       "      <td>0.297675</td>\n",
       "      <td>0.397921</td>\n",
       "      <td>0.258265</td>\n",
       "      <td>0.171686</td>\n",
       "      <td>0.161543</td>\n",
       "      <td>0.466873</td>\n",
       "    </tr>\n",
       "    <tr>\n",
       "      <th>min</th>\n",
       "      <td>3.921784e+04</td>\n",
       "      <td>5.030230e+06</td>\n",
       "      <td>-1.000000</td>\n",
       "      <td>0.000000</td>\n",
       "      <td>0.000000</td>\n",
       "      <td>0.000000</td>\n",
       "      <td>0.000000</td>\n",
       "      <td>0.000000</td>\n",
       "      <td>0.000000</td>\n",
       "    </tr>\n",
       "    <tr>\n",
       "      <th>25%</th>\n",
       "      <td>4.172614e+12</td>\n",
       "      <td>5.640286e+06</td>\n",
       "      <td>18.000000</td>\n",
       "      <td>0.000000</td>\n",
       "      <td>0.000000</td>\n",
       "      <td>0.000000</td>\n",
       "      <td>0.000000</td>\n",
       "      <td>0.000000</td>\n",
       "      <td>0.000000</td>\n",
       "    </tr>\n",
       "    <tr>\n",
       "      <th>50%</th>\n",
       "      <td>3.173184e+13</td>\n",
       "      <td>5.680573e+06</td>\n",
       "      <td>37.000000</td>\n",
       "      <td>0.000000</td>\n",
       "      <td>0.000000</td>\n",
       "      <td>0.000000</td>\n",
       "      <td>0.000000</td>\n",
       "      <td>0.000000</td>\n",
       "      <td>0.000000</td>\n",
       "    </tr>\n",
       "    <tr>\n",
       "      <th>75%</th>\n",
       "      <td>9.439172e+13</td>\n",
       "      <td>5.725524e+06</td>\n",
       "      <td>55.000000</td>\n",
       "      <td>0.000000</td>\n",
       "      <td>0.000000</td>\n",
       "      <td>0.000000</td>\n",
       "      <td>0.000000</td>\n",
       "      <td>0.000000</td>\n",
       "      <td>1.000000</td>\n",
       "    </tr>\n",
       "    <tr>\n",
       "      <th>max</th>\n",
       "      <td>9.999816e+14</td>\n",
       "      <td>5.790484e+06</td>\n",
       "      <td>115.000000</td>\n",
       "      <td>1.000000</td>\n",
       "      <td>1.000000</td>\n",
       "      <td>1.000000</td>\n",
       "      <td>1.000000</td>\n",
       "      <td>4.000000</td>\n",
       "      <td>1.000000</td>\n",
       "    </tr>\n",
       "  </tbody>\n",
       "</table>\n",
       "</div>"
      ],
      "text/plain": [
       "          PatientId  AppointmentID            Age    Scholarship  \\\n",
       "count  1.105270e+05   1.105270e+05  110527.000000  110527.000000   \n",
       "mean   1.474963e+14   5.675305e+06      37.088874       0.098266   \n",
       "std    2.560949e+14   7.129575e+04      23.110205       0.297675   \n",
       "min    3.921784e+04   5.030230e+06      -1.000000       0.000000   \n",
       "25%    4.172614e+12   5.640286e+06      18.000000       0.000000   \n",
       "50%    3.173184e+13   5.680573e+06      37.000000       0.000000   \n",
       "75%    9.439172e+13   5.725524e+06      55.000000       0.000000   \n",
       "max    9.999816e+14   5.790484e+06     115.000000       1.000000   \n",
       "\n",
       "        Hipertension       Diabetes     Alcoholism        Handcap  \\\n",
       "count  110527.000000  110527.000000  110527.000000  110527.000000   \n",
       "mean        0.197246       0.071865       0.030400       0.022248   \n",
       "std         0.397921       0.258265       0.171686       0.161543   \n",
       "min         0.000000       0.000000       0.000000       0.000000   \n",
       "25%         0.000000       0.000000       0.000000       0.000000   \n",
       "50%         0.000000       0.000000       0.000000       0.000000   \n",
       "75%         0.000000       0.000000       0.000000       0.000000   \n",
       "max         1.000000       1.000000       1.000000       4.000000   \n",
       "\n",
       "        SMS_received  \n",
       "count  110527.000000  \n",
       "mean        0.321026  \n",
       "std         0.466873  \n",
       "min         0.000000  \n",
       "25%         0.000000  \n",
       "50%         0.000000  \n",
       "75%         1.000000  \n",
       "max         1.000000  "
      ]
     },
     "execution_count": 8,
     "metadata": {},
     "output_type": "execute_result"
    }
   ],
   "source": [
    "# Descriptive statistics \n",
    "\n",
    "medical_appointments.describe()"
   ]
  },
  {
   "cell_type": "markdown",
   "id": "8d59d870",
   "metadata": {},
   "source": [
    "## Data Cleaning "
   ]
  },
  {
   "cell_type": "markdown",
   "id": "3cf0b01c",
   "metadata": {},
   "source": [
    "Cleaning the data to make analysis more accurate and clear "
   ]
  },
  {
   "cell_type": "markdown",
   "id": "cf5d37b7",
   "metadata": {},
   "source": [
    "**Convert `AppointmentDay` and `ScheduledDay` to datetime**"
   ]
  },
  {
   "cell_type": "code",
   "execution_count": 9,
   "id": "acd509de",
   "metadata": {},
   "outputs": [],
   "source": [
    "# Convert the Appointment Day and Scheduled Day column to datetime\n",
    "\n",
    "medical_appointments['ScheduledDay'] = pd.to_datetime(medical_appointments[\"ScheduledDay\"]).dt.date.astype('datetime64[ns]')\n",
    "medical_appointments['AppointmentDay'] = pd.to_datetime(medical_appointments[\"AppointmentDay\"]).dt.date.astype('datetime64[ns]')\n"
   ]
  },
  {
   "cell_type": "code",
   "execution_count": 10,
   "id": "c6a9d2f9",
   "metadata": {},
   "outputs": [
    {
     "data": {
      "text/html": [
       "<div>\n",
       "<style scoped>\n",
       "    .dataframe tbody tr th:only-of-type {\n",
       "        vertical-align: middle;\n",
       "    }\n",
       "\n",
       "    .dataframe tbody tr th {\n",
       "        vertical-align: top;\n",
       "    }\n",
       "\n",
       "    .dataframe thead th {\n",
       "        text-align: right;\n",
       "    }\n",
       "</style>\n",
       "<table border=\"1\" class=\"dataframe\">\n",
       "  <thead>\n",
       "    <tr style=\"text-align: right;\">\n",
       "      <th></th>\n",
       "      <th>PatientId</th>\n",
       "      <th>AppointmentID</th>\n",
       "      <th>Gender</th>\n",
       "      <th>ScheduledDay</th>\n",
       "      <th>AppointmentDay</th>\n",
       "      <th>Age</th>\n",
       "      <th>Neighbourhood</th>\n",
       "      <th>Scholarship</th>\n",
       "      <th>Hipertension</th>\n",
       "      <th>Diabetes</th>\n",
       "      <th>Alcoholism</th>\n",
       "      <th>Handcap</th>\n",
       "      <th>SMS_received</th>\n",
       "      <th>No-show</th>\n",
       "    </tr>\n",
       "  </thead>\n",
       "  <tbody>\n",
       "    <tr>\n",
       "      <th>0</th>\n",
       "      <td>2.987250e+13</td>\n",
       "      <td>5642903</td>\n",
       "      <td>F</td>\n",
       "      <td>2016-04-29</td>\n",
       "      <td>2016-04-29</td>\n",
       "      <td>62</td>\n",
       "      <td>JARDIM DA PENHA</td>\n",
       "      <td>0</td>\n",
       "      <td>1</td>\n",
       "      <td>0</td>\n",
       "      <td>0</td>\n",
       "      <td>0</td>\n",
       "      <td>0</td>\n",
       "      <td>No</td>\n",
       "    </tr>\n",
       "    <tr>\n",
       "      <th>1</th>\n",
       "      <td>5.589978e+14</td>\n",
       "      <td>5642503</td>\n",
       "      <td>M</td>\n",
       "      <td>2016-04-29</td>\n",
       "      <td>2016-04-29</td>\n",
       "      <td>56</td>\n",
       "      <td>JARDIM DA PENHA</td>\n",
       "      <td>0</td>\n",
       "      <td>0</td>\n",
       "      <td>0</td>\n",
       "      <td>0</td>\n",
       "      <td>0</td>\n",
       "      <td>0</td>\n",
       "      <td>No</td>\n",
       "    </tr>\n",
       "    <tr>\n",
       "      <th>2</th>\n",
       "      <td>4.262962e+12</td>\n",
       "      <td>5642549</td>\n",
       "      <td>F</td>\n",
       "      <td>2016-04-29</td>\n",
       "      <td>2016-04-29</td>\n",
       "      <td>62</td>\n",
       "      <td>MATA DA PRAIA</td>\n",
       "      <td>0</td>\n",
       "      <td>0</td>\n",
       "      <td>0</td>\n",
       "      <td>0</td>\n",
       "      <td>0</td>\n",
       "      <td>0</td>\n",
       "      <td>No</td>\n",
       "    </tr>\n",
       "    <tr>\n",
       "      <th>3</th>\n",
       "      <td>8.679512e+11</td>\n",
       "      <td>5642828</td>\n",
       "      <td>F</td>\n",
       "      <td>2016-04-29</td>\n",
       "      <td>2016-04-29</td>\n",
       "      <td>8</td>\n",
       "      <td>PONTAL DE CAMBURI</td>\n",
       "      <td>0</td>\n",
       "      <td>0</td>\n",
       "      <td>0</td>\n",
       "      <td>0</td>\n",
       "      <td>0</td>\n",
       "      <td>0</td>\n",
       "      <td>No</td>\n",
       "    </tr>\n",
       "    <tr>\n",
       "      <th>4</th>\n",
       "      <td>8.841186e+12</td>\n",
       "      <td>5642494</td>\n",
       "      <td>F</td>\n",
       "      <td>2016-04-29</td>\n",
       "      <td>2016-04-29</td>\n",
       "      <td>56</td>\n",
       "      <td>JARDIM DA PENHA</td>\n",
       "      <td>0</td>\n",
       "      <td>1</td>\n",
       "      <td>1</td>\n",
       "      <td>0</td>\n",
       "      <td>0</td>\n",
       "      <td>0</td>\n",
       "      <td>No</td>\n",
       "    </tr>\n",
       "  </tbody>\n",
       "</table>\n",
       "</div>"
      ],
      "text/plain": [
       "      PatientId  AppointmentID Gender ScheduledDay AppointmentDay  Age  \\\n",
       "0  2.987250e+13        5642903      F   2016-04-29     2016-04-29   62   \n",
       "1  5.589978e+14        5642503      M   2016-04-29     2016-04-29   56   \n",
       "2  4.262962e+12        5642549      F   2016-04-29     2016-04-29   62   \n",
       "3  8.679512e+11        5642828      F   2016-04-29     2016-04-29    8   \n",
       "4  8.841186e+12        5642494      F   2016-04-29     2016-04-29   56   \n",
       "\n",
       "       Neighbourhood  Scholarship  Hipertension  Diabetes  Alcoholism  \\\n",
       "0    JARDIM DA PENHA            0             1         0           0   \n",
       "1    JARDIM DA PENHA            0             0         0           0   \n",
       "2      MATA DA PRAIA            0             0         0           0   \n",
       "3  PONTAL DE CAMBURI            0             0         0           0   \n",
       "4    JARDIM DA PENHA            0             1         1           0   \n",
       "\n",
       "   Handcap  SMS_received No-show  \n",
       "0        0             0      No  \n",
       "1        0             0      No  \n",
       "2        0             0      No  \n",
       "3        0             0      No  \n",
       "4        0             0      No  "
      ]
     },
     "execution_count": 10,
     "metadata": {},
     "output_type": "execute_result"
    }
   ],
   "source": [
    "medical_appointments.head()"
   ]
  },
  {
   "cell_type": "markdown",
   "id": "0cc8d950",
   "metadata": {},
   "source": [
    "#### Create a new column for number of days to the clinic appointment  "
   ]
  },
  {
   "cell_type": "code",
   "execution_count": 11,
   "id": "3b1bd42b",
   "metadata": {},
   "outputs": [
    {
     "data": {
      "text/html": [
       "<div>\n",
       "<style scoped>\n",
       "    .dataframe tbody tr th:only-of-type {\n",
       "        vertical-align: middle;\n",
       "    }\n",
       "\n",
       "    .dataframe tbody tr th {\n",
       "        vertical-align: top;\n",
       "    }\n",
       "\n",
       "    .dataframe thead th {\n",
       "        text-align: right;\n",
       "    }\n",
       "</style>\n",
       "<table border=\"1\" class=\"dataframe\">\n",
       "  <thead>\n",
       "    <tr style=\"text-align: right;\">\n",
       "      <th></th>\n",
       "      <th>PatientId</th>\n",
       "      <th>AppointmentID</th>\n",
       "      <th>Gender</th>\n",
       "      <th>ScheduledDay</th>\n",
       "      <th>AppointmentDay</th>\n",
       "      <th>Age</th>\n",
       "      <th>Neighbourhood</th>\n",
       "      <th>Scholarship</th>\n",
       "      <th>Hipertension</th>\n",
       "      <th>Diabetes</th>\n",
       "      <th>Alcoholism</th>\n",
       "      <th>Handcap</th>\n",
       "      <th>SMS_received</th>\n",
       "      <th>No-show</th>\n",
       "      <th>due_days</th>\n",
       "    </tr>\n",
       "  </thead>\n",
       "  <tbody>\n",
       "    <tr>\n",
       "      <th>0</th>\n",
       "      <td>2.987250e+13</td>\n",
       "      <td>5642903</td>\n",
       "      <td>F</td>\n",
       "      <td>2016-04-29</td>\n",
       "      <td>2016-04-29</td>\n",
       "      <td>62</td>\n",
       "      <td>JARDIM DA PENHA</td>\n",
       "      <td>0</td>\n",
       "      <td>1</td>\n",
       "      <td>0</td>\n",
       "      <td>0</td>\n",
       "      <td>0</td>\n",
       "      <td>0</td>\n",
       "      <td>No</td>\n",
       "      <td>0</td>\n",
       "    </tr>\n",
       "    <tr>\n",
       "      <th>1</th>\n",
       "      <td>5.589978e+14</td>\n",
       "      <td>5642503</td>\n",
       "      <td>M</td>\n",
       "      <td>2016-04-29</td>\n",
       "      <td>2016-04-29</td>\n",
       "      <td>56</td>\n",
       "      <td>JARDIM DA PENHA</td>\n",
       "      <td>0</td>\n",
       "      <td>0</td>\n",
       "      <td>0</td>\n",
       "      <td>0</td>\n",
       "      <td>0</td>\n",
       "      <td>0</td>\n",
       "      <td>No</td>\n",
       "      <td>0</td>\n",
       "    </tr>\n",
       "    <tr>\n",
       "      <th>2</th>\n",
       "      <td>4.262962e+12</td>\n",
       "      <td>5642549</td>\n",
       "      <td>F</td>\n",
       "      <td>2016-04-29</td>\n",
       "      <td>2016-04-29</td>\n",
       "      <td>62</td>\n",
       "      <td>MATA DA PRAIA</td>\n",
       "      <td>0</td>\n",
       "      <td>0</td>\n",
       "      <td>0</td>\n",
       "      <td>0</td>\n",
       "      <td>0</td>\n",
       "      <td>0</td>\n",
       "      <td>No</td>\n",
       "      <td>0</td>\n",
       "    </tr>\n",
       "    <tr>\n",
       "      <th>3</th>\n",
       "      <td>8.679512e+11</td>\n",
       "      <td>5642828</td>\n",
       "      <td>F</td>\n",
       "      <td>2016-04-29</td>\n",
       "      <td>2016-04-29</td>\n",
       "      <td>8</td>\n",
       "      <td>PONTAL DE CAMBURI</td>\n",
       "      <td>0</td>\n",
       "      <td>0</td>\n",
       "      <td>0</td>\n",
       "      <td>0</td>\n",
       "      <td>0</td>\n",
       "      <td>0</td>\n",
       "      <td>No</td>\n",
       "      <td>0</td>\n",
       "    </tr>\n",
       "    <tr>\n",
       "      <th>4</th>\n",
       "      <td>8.841186e+12</td>\n",
       "      <td>5642494</td>\n",
       "      <td>F</td>\n",
       "      <td>2016-04-29</td>\n",
       "      <td>2016-04-29</td>\n",
       "      <td>56</td>\n",
       "      <td>JARDIM DA PENHA</td>\n",
       "      <td>0</td>\n",
       "      <td>1</td>\n",
       "      <td>1</td>\n",
       "      <td>0</td>\n",
       "      <td>0</td>\n",
       "      <td>0</td>\n",
       "      <td>No</td>\n",
       "      <td>0</td>\n",
       "    </tr>\n",
       "    <tr>\n",
       "      <th>...</th>\n",
       "      <td>...</td>\n",
       "      <td>...</td>\n",
       "      <td>...</td>\n",
       "      <td>...</td>\n",
       "      <td>...</td>\n",
       "      <td>...</td>\n",
       "      <td>...</td>\n",
       "      <td>...</td>\n",
       "      <td>...</td>\n",
       "      <td>...</td>\n",
       "      <td>...</td>\n",
       "      <td>...</td>\n",
       "      <td>...</td>\n",
       "      <td>...</td>\n",
       "      <td>...</td>\n",
       "    </tr>\n",
       "    <tr>\n",
       "      <th>110522</th>\n",
       "      <td>2.572134e+12</td>\n",
       "      <td>5651768</td>\n",
       "      <td>F</td>\n",
       "      <td>2016-05-03</td>\n",
       "      <td>2016-06-07</td>\n",
       "      <td>56</td>\n",
       "      <td>MARIA ORTIZ</td>\n",
       "      <td>0</td>\n",
       "      <td>0</td>\n",
       "      <td>0</td>\n",
       "      <td>0</td>\n",
       "      <td>0</td>\n",
       "      <td>1</td>\n",
       "      <td>No</td>\n",
       "      <td>35</td>\n",
       "    </tr>\n",
       "    <tr>\n",
       "      <th>110523</th>\n",
       "      <td>3.596266e+12</td>\n",
       "      <td>5650093</td>\n",
       "      <td>F</td>\n",
       "      <td>2016-05-03</td>\n",
       "      <td>2016-06-07</td>\n",
       "      <td>51</td>\n",
       "      <td>MARIA ORTIZ</td>\n",
       "      <td>0</td>\n",
       "      <td>0</td>\n",
       "      <td>0</td>\n",
       "      <td>0</td>\n",
       "      <td>0</td>\n",
       "      <td>1</td>\n",
       "      <td>No</td>\n",
       "      <td>35</td>\n",
       "    </tr>\n",
       "    <tr>\n",
       "      <th>110524</th>\n",
       "      <td>1.557663e+13</td>\n",
       "      <td>5630692</td>\n",
       "      <td>F</td>\n",
       "      <td>2016-04-27</td>\n",
       "      <td>2016-06-07</td>\n",
       "      <td>21</td>\n",
       "      <td>MARIA ORTIZ</td>\n",
       "      <td>0</td>\n",
       "      <td>0</td>\n",
       "      <td>0</td>\n",
       "      <td>0</td>\n",
       "      <td>0</td>\n",
       "      <td>1</td>\n",
       "      <td>No</td>\n",
       "      <td>41</td>\n",
       "    </tr>\n",
       "    <tr>\n",
       "      <th>110525</th>\n",
       "      <td>9.213493e+13</td>\n",
       "      <td>5630323</td>\n",
       "      <td>F</td>\n",
       "      <td>2016-04-27</td>\n",
       "      <td>2016-06-07</td>\n",
       "      <td>38</td>\n",
       "      <td>MARIA ORTIZ</td>\n",
       "      <td>0</td>\n",
       "      <td>0</td>\n",
       "      <td>0</td>\n",
       "      <td>0</td>\n",
       "      <td>0</td>\n",
       "      <td>1</td>\n",
       "      <td>No</td>\n",
       "      <td>41</td>\n",
       "    </tr>\n",
       "    <tr>\n",
       "      <th>110526</th>\n",
       "      <td>3.775115e+14</td>\n",
       "      <td>5629448</td>\n",
       "      <td>F</td>\n",
       "      <td>2016-04-27</td>\n",
       "      <td>2016-06-07</td>\n",
       "      <td>54</td>\n",
       "      <td>MARIA ORTIZ</td>\n",
       "      <td>0</td>\n",
       "      <td>0</td>\n",
       "      <td>0</td>\n",
       "      <td>0</td>\n",
       "      <td>0</td>\n",
       "      <td>1</td>\n",
       "      <td>No</td>\n",
       "      <td>41</td>\n",
       "    </tr>\n",
       "  </tbody>\n",
       "</table>\n",
       "<p>110527 rows × 15 columns</p>\n",
       "</div>"
      ],
      "text/plain": [
       "           PatientId  AppointmentID Gender ScheduledDay AppointmentDay  Age  \\\n",
       "0       2.987250e+13        5642903      F   2016-04-29     2016-04-29   62   \n",
       "1       5.589978e+14        5642503      M   2016-04-29     2016-04-29   56   \n",
       "2       4.262962e+12        5642549      F   2016-04-29     2016-04-29   62   \n",
       "3       8.679512e+11        5642828      F   2016-04-29     2016-04-29    8   \n",
       "4       8.841186e+12        5642494      F   2016-04-29     2016-04-29   56   \n",
       "...              ...            ...    ...          ...            ...  ...   \n",
       "110522  2.572134e+12        5651768      F   2016-05-03     2016-06-07   56   \n",
       "110523  3.596266e+12        5650093      F   2016-05-03     2016-06-07   51   \n",
       "110524  1.557663e+13        5630692      F   2016-04-27     2016-06-07   21   \n",
       "110525  9.213493e+13        5630323      F   2016-04-27     2016-06-07   38   \n",
       "110526  3.775115e+14        5629448      F   2016-04-27     2016-06-07   54   \n",
       "\n",
       "            Neighbourhood  Scholarship  Hipertension  Diabetes  Alcoholism  \\\n",
       "0         JARDIM DA PENHA            0             1         0           0   \n",
       "1         JARDIM DA PENHA            0             0         0           0   \n",
       "2           MATA DA PRAIA            0             0         0           0   \n",
       "3       PONTAL DE CAMBURI            0             0         0           0   \n",
       "4         JARDIM DA PENHA            0             1         1           0   \n",
       "...                   ...          ...           ...       ...         ...   \n",
       "110522        MARIA ORTIZ            0             0         0           0   \n",
       "110523        MARIA ORTIZ            0             0         0           0   \n",
       "110524        MARIA ORTIZ            0             0         0           0   \n",
       "110525        MARIA ORTIZ            0             0         0           0   \n",
       "110526        MARIA ORTIZ            0             0         0           0   \n",
       "\n",
       "        Handcap  SMS_received No-show  due_days  \n",
       "0             0             0      No         0  \n",
       "1             0             0      No         0  \n",
       "2             0             0      No         0  \n",
       "3             0             0      No         0  \n",
       "4             0             0      No         0  \n",
       "...         ...           ...     ...       ...  \n",
       "110522        0             1      No        35  \n",
       "110523        0             1      No        35  \n",
       "110524        0             1      No        41  \n",
       "110525        0             1      No        41  \n",
       "110526        0             1      No        41  \n",
       "\n",
       "[110527 rows x 15 columns]"
      ]
     },
     "execution_count": 11,
     "metadata": {},
     "output_type": "execute_result"
    }
   ],
   "source": [
    "# creating the due_days column \n",
    "medical_appointments['due_days'] = medical_appointments['AppointmentDay'] - medical_appointments['ScheduledDay']\n",
    "\n",
    "# converting to days data type \n",
    "medical_appointments['due_days'] = medical_appointments['due_days'].dt.days \n",
    "\n",
    "# view dataset \n",
    "medical_appointments"
   ]
  },
  {
   "cell_type": "markdown",
   "id": "fa318e88",
   "metadata": {},
   "source": [
    "**Get the weekdays for scheduled day and appointment day**"
   ]
  },
  {
   "cell_type": "code",
   "execution_count": 12,
   "id": "d527b2f8",
   "metadata": {},
   "outputs": [],
   "source": [
    "# 0 is Monday, 1 is Tuesday, 2 is Wednesday, 3 is Thursday, 4 is Friday, 5 is Saturday, 6 is Sunday \n",
    "medical_appointments['sch_weekday'] = medical_appointments['ScheduledDay'].dt.dayofweek"
   ]
  },
  {
   "cell_type": "code",
   "execution_count": 13,
   "id": "79fbdccf",
   "metadata": {},
   "outputs": [],
   "source": [
    "medical_appointments['app_weekday'] = medical_appointments['AppointmentDay'].dt.dayofweek "
   ]
  },
  {
   "cell_type": "code",
   "execution_count": 14,
   "id": "e9f0aaec",
   "metadata": {},
   "outputs": [
    {
     "data": {
      "text/plain": [
       "1    26168\n",
       "2    24262\n",
       "0    23085\n",
       "4    18915\n",
       "3    18073\n",
       "5       24\n",
       "Name: sch_weekday, dtype: int64"
      ]
     },
     "execution_count": 14,
     "metadata": {},
     "output_type": "execute_result"
    }
   ],
   "source": [
    "medical_appointments['sch_weekday'].value_counts()"
   ]
  },
  {
   "cell_type": "markdown",
   "id": "2b2b6495",
   "metadata": {},
   "source": [
    "- Most appointments were scheduled on Tuesday, No appointments were scheduled on Sunday"
   ]
  },
  {
   "cell_type": "code",
   "execution_count": 15,
   "id": "f3b9dc61",
   "metadata": {},
   "outputs": [
    {
     "data": {
      "text/plain": [
       "2    25867\n",
       "1    25640\n",
       "0    22715\n",
       "4    19019\n",
       "3    17247\n",
       "5       39\n",
       "Name: app_weekday, dtype: int64"
      ]
     },
     "execution_count": 15,
     "metadata": {},
     "output_type": "execute_result"
    }
   ],
   "source": [
    "medical_appointments['app_weekday'].value_counts()"
   ]
  },
  {
   "cell_type": "markdown",
   "id": "527879df",
   "metadata": {},
   "source": [
    "- Most appointents were on Wednesday with no appointments on sunday"
   ]
  },
  {
   "cell_type": "code",
   "execution_count": 16,
   "id": "2441ecc6",
   "metadata": {},
   "outputs": [
    {
     "data": {
      "text/plain": [
       "Index(['PatientId', 'AppointmentID', 'Gender', 'ScheduledDay',\n",
       "       'AppointmentDay', 'Age', 'Neighbourhood', 'Scholarship', 'Hipertension',\n",
       "       'Diabetes', 'Alcoholism', 'Handcap', 'SMS_received', 'No-show',\n",
       "       'due_days', 'sch_weekday', 'app_weekday'],\n",
       "      dtype='object')"
      ]
     },
     "execution_count": 16,
     "metadata": {},
     "output_type": "execute_result"
    }
   ],
   "source": [
    "#print columns \n",
    "medical_appointments.columns"
   ]
  },
  {
   "cell_type": "code",
   "execution_count": 17,
   "id": "aa6a6768",
   "metadata": {},
   "outputs": [
    {
     "data": {
      "text/plain": [
       "Index(['PatientId', 'AppointmentID', 'Gender', 'ScheduledDay',\n",
       "       'AppointmentDay', 'Age', 'Neighbourhood', 'HealthCoverage',\n",
       "       'Hypertension', 'Diabetes', 'Alcoholism', 'Handicap', 'SMSReceived',\n",
       "       'NoShow', 'due_days', 'sch_weekday', 'app_weekday'],\n",
       "      dtype='object')"
      ]
     },
     "execution_count": 17,
     "metadata": {},
     "output_type": "execute_result"
    }
   ],
   "source": [
    "#changing the name of some columns \n",
    "medical_appointments = medical_appointments.rename(columns={'Hipertension':'Hypertension', 'Handcap':'Handicap', 'SMS_received':'SMSReceived', 'No-show':'NoShow', 'Scholarship':'HealthCoverage'})\n",
    "#print columns to view changes \n",
    "medical_appointments.columns"
   ]
  },
  {
   "cell_type": "code",
   "execution_count": 18,
   "id": "8fe0d660",
   "metadata": {},
   "outputs": [
    {
     "name": "stdout",
     "output_type": "stream",
     "text": [
      "<class 'pandas.core.frame.DataFrame'>\n",
      "RangeIndex: 110527 entries, 0 to 110526\n",
      "Data columns (total 17 columns):\n",
      " #   Column          Non-Null Count   Dtype         \n",
      "---  ------          --------------   -----         \n",
      " 0   PatientId       110527 non-null  float64       \n",
      " 1   AppointmentID   110527 non-null  int64         \n",
      " 2   Gender          110527 non-null  object        \n",
      " 3   ScheduledDay    110527 non-null  datetime64[ns]\n",
      " 4   AppointmentDay  110527 non-null  datetime64[ns]\n",
      " 5   Age             110527 non-null  int64         \n",
      " 6   Neighbourhood   110527 non-null  object        \n",
      " 7   HealthCoverage  110527 non-null  int64         \n",
      " 8   Hypertension    110527 non-null  int64         \n",
      " 9   Diabetes        110527 non-null  int64         \n",
      " 10  Alcoholism      110527 non-null  int64         \n",
      " 11  Handicap        110527 non-null  int64         \n",
      " 12  SMSReceived     110527 non-null  int64         \n",
      " 13  NoShow          110527 non-null  object        \n",
      " 14  due_days        110527 non-null  int64         \n",
      " 15  sch_weekday     110527 non-null  int64         \n",
      " 16  app_weekday     110527 non-null  int64         \n",
      "dtypes: datetime64[ns](2), float64(1), int64(11), object(3)\n",
      "memory usage: 14.3+ MB\n"
     ]
    }
   ],
   "source": [
    "medical_appointments.info()"
   ]
  },
  {
   "cell_type": "code",
   "execution_count": 19,
   "id": "578d0bfc",
   "metadata": {},
   "outputs": [
    {
     "data": {
      "text/plain": [
       "Index(['Gender', 'ScheduledDay', 'AppointmentDay', 'Age', 'Neighbourhood',\n",
       "       'HealthCoverage', 'Hypertension', 'Diabetes', 'Alcoholism', 'Handicap',\n",
       "       'SMSReceived', 'NoShow', 'due_days', 'sch_weekday', 'app_weekday'],\n",
       "      dtype='object')"
      ]
     },
     "execution_count": 19,
     "metadata": {},
     "output_type": "execute_result"
    }
   ],
   "source": [
    "#Drop columns that have no significance \n",
    "medical_appointments.drop(['PatientId', 'AppointmentID'], axis=1, inplace=True)\n",
    "medical_appointments.columns"
   ]
  },
  {
   "cell_type": "code",
   "execution_count": 20,
   "id": "2ae25fce",
   "metadata": {},
   "outputs": [
    {
     "data": {
      "text/plain": [
       "count    110527.000000\n",
       "mean         10.183702\n",
       "std          15.254996\n",
       "min          -6.000000\n",
       "25%           0.000000\n",
       "50%           4.000000\n",
       "75%          15.000000\n",
       "max         179.000000\n",
       "Name: due_days, dtype: float64"
      ]
     },
     "execution_count": 20,
     "metadata": {},
     "output_type": "execute_result"
    }
   ],
   "source": [
    "#statistical information\n",
    "medical_appointments['due_days'].describe()"
   ]
  },
  {
   "cell_type": "markdown",
   "id": "e9eba35e",
   "metadata": {},
   "source": [
    "- There are some negative values, which might need to be dropped "
   ]
  },
  {
   "cell_type": "code",
   "execution_count": 21,
   "id": "e4ebb5d0",
   "metadata": {},
   "outputs": [
    {
     "data": {
      "text/html": [
       "<div>\n",
       "<style scoped>\n",
       "    .dataframe tbody tr th:only-of-type {\n",
       "        vertical-align: middle;\n",
       "    }\n",
       "\n",
       "    .dataframe tbody tr th {\n",
       "        vertical-align: top;\n",
       "    }\n",
       "\n",
       "    .dataframe thead th {\n",
       "        text-align: right;\n",
       "    }\n",
       "</style>\n",
       "<table border=\"1\" class=\"dataframe\">\n",
       "  <thead>\n",
       "    <tr style=\"text-align: right;\">\n",
       "      <th></th>\n",
       "      <th>Gender</th>\n",
       "      <th>ScheduledDay</th>\n",
       "      <th>AppointmentDay</th>\n",
       "      <th>Age</th>\n",
       "      <th>Neighbourhood</th>\n",
       "      <th>HealthCoverage</th>\n",
       "      <th>Hypertension</th>\n",
       "      <th>Diabetes</th>\n",
       "      <th>Alcoholism</th>\n",
       "      <th>Handicap</th>\n",
       "      <th>SMSReceived</th>\n",
       "      <th>NoShow</th>\n",
       "      <th>due_days</th>\n",
       "      <th>sch_weekday</th>\n",
       "      <th>app_weekday</th>\n",
       "    </tr>\n",
       "  </thead>\n",
       "  <tbody>\n",
       "    <tr>\n",
       "      <th>27033</th>\n",
       "      <td>M</td>\n",
       "      <td>2016-05-10</td>\n",
       "      <td>2016-05-09</td>\n",
       "      <td>38</td>\n",
       "      <td>RESISTÊNCIA</td>\n",
       "      <td>0</td>\n",
       "      <td>0</td>\n",
       "      <td>0</td>\n",
       "      <td>0</td>\n",
       "      <td>1</td>\n",
       "      <td>0</td>\n",
       "      <td>Yes</td>\n",
       "      <td>-1</td>\n",
       "      <td>1</td>\n",
       "      <td>0</td>\n",
       "    </tr>\n",
       "    <tr>\n",
       "      <th>55226</th>\n",
       "      <td>F</td>\n",
       "      <td>2016-05-18</td>\n",
       "      <td>2016-05-17</td>\n",
       "      <td>19</td>\n",
       "      <td>SANTO ANTÔNIO</td>\n",
       "      <td>0</td>\n",
       "      <td>0</td>\n",
       "      <td>0</td>\n",
       "      <td>0</td>\n",
       "      <td>1</td>\n",
       "      <td>0</td>\n",
       "      <td>Yes</td>\n",
       "      <td>-1</td>\n",
       "      <td>2</td>\n",
       "      <td>1</td>\n",
       "    </tr>\n",
       "    <tr>\n",
       "      <th>64175</th>\n",
       "      <td>F</td>\n",
       "      <td>2016-05-05</td>\n",
       "      <td>2016-05-04</td>\n",
       "      <td>22</td>\n",
       "      <td>CONSOLAÇÃO</td>\n",
       "      <td>0</td>\n",
       "      <td>0</td>\n",
       "      <td>0</td>\n",
       "      <td>0</td>\n",
       "      <td>0</td>\n",
       "      <td>0</td>\n",
       "      <td>Yes</td>\n",
       "      <td>-1</td>\n",
       "      <td>3</td>\n",
       "      <td>2</td>\n",
       "    </tr>\n",
       "    <tr>\n",
       "      <th>71533</th>\n",
       "      <td>F</td>\n",
       "      <td>2016-05-11</td>\n",
       "      <td>2016-05-05</td>\n",
       "      <td>81</td>\n",
       "      <td>SANTO ANTÔNIO</td>\n",
       "      <td>0</td>\n",
       "      <td>0</td>\n",
       "      <td>0</td>\n",
       "      <td>0</td>\n",
       "      <td>0</td>\n",
       "      <td>0</td>\n",
       "      <td>Yes</td>\n",
       "      <td>-6</td>\n",
       "      <td>2</td>\n",
       "      <td>3</td>\n",
       "    </tr>\n",
       "    <tr>\n",
       "      <th>72362</th>\n",
       "      <td>M</td>\n",
       "      <td>2016-05-04</td>\n",
       "      <td>2016-05-03</td>\n",
       "      <td>7</td>\n",
       "      <td>TABUAZEIRO</td>\n",
       "      <td>0</td>\n",
       "      <td>0</td>\n",
       "      <td>0</td>\n",
       "      <td>0</td>\n",
       "      <td>0</td>\n",
       "      <td>0</td>\n",
       "      <td>Yes</td>\n",
       "      <td>-1</td>\n",
       "      <td>2</td>\n",
       "      <td>1</td>\n",
       "    </tr>\n",
       "  </tbody>\n",
       "</table>\n",
       "</div>"
      ],
      "text/plain": [
       "      Gender ScheduledDay AppointmentDay  Age  Neighbourhood  HealthCoverage  \\\n",
       "27033      M   2016-05-10     2016-05-09   38    RESISTÊNCIA               0   \n",
       "55226      F   2016-05-18     2016-05-17   19  SANTO ANTÔNIO               0   \n",
       "64175      F   2016-05-05     2016-05-04   22     CONSOLAÇÃO               0   \n",
       "71533      F   2016-05-11     2016-05-05   81  SANTO ANTÔNIO               0   \n",
       "72362      M   2016-05-04     2016-05-03    7     TABUAZEIRO               0   \n",
       "\n",
       "       Hypertension  Diabetes  Alcoholism  Handicap  SMSReceived NoShow  \\\n",
       "27033             0         0           0         1            0    Yes   \n",
       "55226             0         0           0         1            0    Yes   \n",
       "64175             0         0           0         0            0    Yes   \n",
       "71533             0         0           0         0            0    Yes   \n",
       "72362             0         0           0         0            0    Yes   \n",
       "\n",
       "       due_days  sch_weekday  app_weekday  \n",
       "27033        -1            1            0  \n",
       "55226        -1            2            1  \n",
       "64175        -1            3            2  \n",
       "71533        -6            2            3  \n",
       "72362        -1            2            1  "
      ]
     },
     "execution_count": 21,
     "metadata": {},
     "output_type": "execute_result"
    }
   ],
   "source": [
    "# view the negative values under due_days \n",
    "medical_appointments[medical_appointments['due_days'] < 0]"
   ]
  },
  {
   "cell_type": "markdown",
   "id": "ce795153",
   "metadata": {},
   "source": [
    "- Given that they are only six(6) negative values, they can be dropped \n"
   ]
  },
  {
   "cell_type": "code",
   "execution_count": 22,
   "id": "5d896f36",
   "metadata": {},
   "outputs": [
    {
     "data": {
      "text/plain": [
       "count    110522.000000\n",
       "mean         10.184253\n",
       "std          15.255115\n",
       "min           0.000000\n",
       "25%           0.000000\n",
       "50%           4.000000\n",
       "75%          15.000000\n",
       "max         179.000000\n",
       "Name: due_days, dtype: float64"
      ]
     },
     "execution_count": 22,
     "metadata": {},
     "output_type": "execute_result"
    }
   ],
   "source": [
    "# drop negative values \n",
    "medical_appointments.drop(medical_appointments[medical_appointments['due_days'] < 0].index, inplace = True)\n",
    "\n",
    "# confirm changes \n",
    "medical_appointments['due_days'].describe()"
   ]
  },
  {
   "cell_type": "markdown",
   "id": "64fc2bdd",
   "metadata": {},
   "source": [
    "**Converting `Gender` and `NoShow` to categorical variables**"
   ]
  },
  {
   "cell_type": "code",
   "execution_count": 23,
   "id": "d5d9779b",
   "metadata": {},
   "outputs": [
    {
     "name": "stdout",
     "output_type": "stream",
     "text": [
      "category\n"
     ]
    }
   ],
   "source": [
    "# Convert the 'Gender' column to the specified categories\n",
    "medical_appointments['Gender'] = medical_appointments['Gender'].astype('category')\n",
    "\n",
    "# Check the data type of the 'Gender' column\n",
    "print(medical_appointments['Gender'].dtypes)"
   ]
  },
  {
   "cell_type": "code",
   "execution_count": 24,
   "id": "51892da0",
   "metadata": {},
   "outputs": [
    {
     "name": "stdout",
     "output_type": "stream",
     "text": [
      "category\n"
     ]
    }
   ],
   "source": [
    "# Convert 'NoShow' column to a categorical data type with numeric mapping\n",
    "medical_appointments['NoShow'] = medical_appointments['NoShow'].map({'Yes': False, 'No': True}).astype('category')\n",
    "\n",
    "# Check the data type of the 'NoShow' column\n",
    "print(medical_appointments['NoShow'].dtypes)\n"
   ]
  },
  {
   "cell_type": "markdown",
   "id": "923c8f35",
   "metadata": {},
   "source": [
    "**Cleaning `Handicap` column**"
   ]
  },
  {
   "cell_type": "code",
   "execution_count": 25,
   "id": "abb651d1",
   "metadata": {},
   "outputs": [
    {
     "data": {
      "text/html": [
       "<div>\n",
       "<style scoped>\n",
       "    .dataframe tbody tr th:only-of-type {\n",
       "        vertical-align: middle;\n",
       "    }\n",
       "\n",
       "    .dataframe tbody tr th {\n",
       "        vertical-align: top;\n",
       "    }\n",
       "\n",
       "    .dataframe thead th {\n",
       "        text-align: right;\n",
       "    }\n",
       "</style>\n",
       "<table border=\"1\" class=\"dataframe\">\n",
       "  <thead>\n",
       "    <tr style=\"text-align: right;\">\n",
       "      <th></th>\n",
       "      <th>Gender</th>\n",
       "      <th>ScheduledDay</th>\n",
       "      <th>AppointmentDay</th>\n",
       "      <th>Age</th>\n",
       "      <th>Neighbourhood</th>\n",
       "      <th>HealthCoverage</th>\n",
       "      <th>Hypertension</th>\n",
       "      <th>Diabetes</th>\n",
       "      <th>Alcoholism</th>\n",
       "      <th>Handicap</th>\n",
       "      <th>SMSReceived</th>\n",
       "      <th>NoShow</th>\n",
       "      <th>due_days</th>\n",
       "      <th>sch_weekday</th>\n",
       "      <th>app_weekday</th>\n",
       "    </tr>\n",
       "  </thead>\n",
       "  <tbody>\n",
       "    <tr>\n",
       "      <th>946</th>\n",
       "      <td>M</td>\n",
       "      <td>2016-04-14</td>\n",
       "      <td>2016-04-29</td>\n",
       "      <td>94</td>\n",
       "      <td>BELA VISTA</td>\n",
       "      <td>0</td>\n",
       "      <td>1</td>\n",
       "      <td>1</td>\n",
       "      <td>0</td>\n",
       "      <td>2</td>\n",
       "      <td>1</td>\n",
       "      <td>True</td>\n",
       "      <td>15</td>\n",
       "      <td>3</td>\n",
       "      <td>4</td>\n",
       "    </tr>\n",
       "    <tr>\n",
       "      <th>1665</th>\n",
       "      <td>M</td>\n",
       "      <td>2016-03-30</td>\n",
       "      <td>2016-04-29</td>\n",
       "      <td>64</td>\n",
       "      <td>SANTA MARTHA</td>\n",
       "      <td>0</td>\n",
       "      <td>1</td>\n",
       "      <td>0</td>\n",
       "      <td>1</td>\n",
       "      <td>2</td>\n",
       "      <td>1</td>\n",
       "      <td>True</td>\n",
       "      <td>30</td>\n",
       "      <td>2</td>\n",
       "      <td>4</td>\n",
       "    </tr>\n",
       "    <tr>\n",
       "      <th>1666</th>\n",
       "      <td>M</td>\n",
       "      <td>2016-03-30</td>\n",
       "      <td>2016-04-29</td>\n",
       "      <td>64</td>\n",
       "      <td>SANTA MARTHA</td>\n",
       "      <td>0</td>\n",
       "      <td>1</td>\n",
       "      <td>0</td>\n",
       "      <td>1</td>\n",
       "      <td>2</td>\n",
       "      <td>0</td>\n",
       "      <td>True</td>\n",
       "      <td>30</td>\n",
       "      <td>2</td>\n",
       "      <td>4</td>\n",
       "    </tr>\n",
       "    <tr>\n",
       "      <th>2071</th>\n",
       "      <td>M</td>\n",
       "      <td>2016-04-29</td>\n",
       "      <td>2016-04-29</td>\n",
       "      <td>64</td>\n",
       "      <td>SANTA MARTHA</td>\n",
       "      <td>0</td>\n",
       "      <td>1</td>\n",
       "      <td>0</td>\n",
       "      <td>1</td>\n",
       "      <td>2</td>\n",
       "      <td>0</td>\n",
       "      <td>True</td>\n",
       "      <td>0</td>\n",
       "      <td>4</td>\n",
       "      <td>4</td>\n",
       "    </tr>\n",
       "    <tr>\n",
       "      <th>2091</th>\n",
       "      <td>F</td>\n",
       "      <td>2016-04-29</td>\n",
       "      <td>2016-04-29</td>\n",
       "      <td>11</td>\n",
       "      <td>ANDORINHAS</td>\n",
       "      <td>0</td>\n",
       "      <td>0</td>\n",
       "      <td>0</td>\n",
       "      <td>0</td>\n",
       "      <td>2</td>\n",
       "      <td>0</td>\n",
       "      <td>True</td>\n",
       "      <td>0</td>\n",
       "      <td>4</td>\n",
       "      <td>4</td>\n",
       "    </tr>\n",
       "    <tr>\n",
       "      <th>...</th>\n",
       "      <td>...</td>\n",
       "      <td>...</td>\n",
       "      <td>...</td>\n",
       "      <td>...</td>\n",
       "      <td>...</td>\n",
       "      <td>...</td>\n",
       "      <td>...</td>\n",
       "      <td>...</td>\n",
       "      <td>...</td>\n",
       "      <td>...</td>\n",
       "      <td>...</td>\n",
       "      <td>...</td>\n",
       "      <td>...</td>\n",
       "      <td>...</td>\n",
       "      <td>...</td>\n",
       "    </tr>\n",
       "    <tr>\n",
       "      <th>108376</th>\n",
       "      <td>F</td>\n",
       "      <td>2016-06-01</td>\n",
       "      <td>2016-06-07</td>\n",
       "      <td>44</td>\n",
       "      <td>ROMÃO</td>\n",
       "      <td>0</td>\n",
       "      <td>1</td>\n",
       "      <td>1</td>\n",
       "      <td>0</td>\n",
       "      <td>2</td>\n",
       "      <td>1</td>\n",
       "      <td>True</td>\n",
       "      <td>6</td>\n",
       "      <td>2</td>\n",
       "      <td>1</td>\n",
       "    </tr>\n",
       "    <tr>\n",
       "      <th>109484</th>\n",
       "      <td>M</td>\n",
       "      <td>2016-05-31</td>\n",
       "      <td>2016-06-02</td>\n",
       "      <td>64</td>\n",
       "      <td>DA PENHA</td>\n",
       "      <td>0</td>\n",
       "      <td>1</td>\n",
       "      <td>1</td>\n",
       "      <td>0</td>\n",
       "      <td>2</td>\n",
       "      <td>0</td>\n",
       "      <td>True</td>\n",
       "      <td>2</td>\n",
       "      <td>1</td>\n",
       "      <td>3</td>\n",
       "    </tr>\n",
       "    <tr>\n",
       "      <th>109733</th>\n",
       "      <td>F</td>\n",
       "      <td>2016-06-03</td>\n",
       "      <td>2016-06-07</td>\n",
       "      <td>34</td>\n",
       "      <td>JUCUTUQUARA</td>\n",
       "      <td>0</td>\n",
       "      <td>0</td>\n",
       "      <td>0</td>\n",
       "      <td>0</td>\n",
       "      <td>2</td>\n",
       "      <td>1</td>\n",
       "      <td>True</td>\n",
       "      <td>4</td>\n",
       "      <td>4</td>\n",
       "      <td>1</td>\n",
       "    </tr>\n",
       "    <tr>\n",
       "      <th>109975</th>\n",
       "      <td>M</td>\n",
       "      <td>2016-06-02</td>\n",
       "      <td>2016-06-06</td>\n",
       "      <td>39</td>\n",
       "      <td>PRAIA DO SUÁ</td>\n",
       "      <td>1</td>\n",
       "      <td>0</td>\n",
       "      <td>0</td>\n",
       "      <td>0</td>\n",
       "      <td>2</td>\n",
       "      <td>1</td>\n",
       "      <td>True</td>\n",
       "      <td>4</td>\n",
       "      <td>3</td>\n",
       "      <td>0</td>\n",
       "    </tr>\n",
       "    <tr>\n",
       "      <th>110107</th>\n",
       "      <td>F</td>\n",
       "      <td>2016-06-02</td>\n",
       "      <td>2016-06-06</td>\n",
       "      <td>44</td>\n",
       "      <td>RESISTÊNCIA</td>\n",
       "      <td>0</td>\n",
       "      <td>0</td>\n",
       "      <td>0</td>\n",
       "      <td>0</td>\n",
       "      <td>2</td>\n",
       "      <td>1</td>\n",
       "      <td>True</td>\n",
       "      <td>4</td>\n",
       "      <td>3</td>\n",
       "      <td>0</td>\n",
       "    </tr>\n",
       "  </tbody>\n",
       "</table>\n",
       "<p>199 rows × 15 columns</p>\n",
       "</div>"
      ],
      "text/plain": [
       "       Gender ScheduledDay AppointmentDay  Age Neighbourhood  HealthCoverage  \\\n",
       "946         M   2016-04-14     2016-04-29   94    BELA VISTA               0   \n",
       "1665        M   2016-03-30     2016-04-29   64  SANTA MARTHA               0   \n",
       "1666        M   2016-03-30     2016-04-29   64  SANTA MARTHA               0   \n",
       "2071        M   2016-04-29     2016-04-29   64  SANTA MARTHA               0   \n",
       "2091        F   2016-04-29     2016-04-29   11    ANDORINHAS               0   \n",
       "...       ...          ...            ...  ...           ...             ...   \n",
       "108376      F   2016-06-01     2016-06-07   44         ROMÃO               0   \n",
       "109484      M   2016-05-31     2016-06-02   64      DA PENHA               0   \n",
       "109733      F   2016-06-03     2016-06-07   34   JUCUTUQUARA               0   \n",
       "109975      M   2016-06-02     2016-06-06   39  PRAIA DO SUÁ               1   \n",
       "110107      F   2016-06-02     2016-06-06   44   RESISTÊNCIA               0   \n",
       "\n",
       "        Hypertension  Diabetes  Alcoholism  Handicap  SMSReceived NoShow  \\\n",
       "946                1         1           0         2            1   True   \n",
       "1665               1         0           1         2            1   True   \n",
       "1666               1         0           1         2            0   True   \n",
       "2071               1         0           1         2            0   True   \n",
       "2091               0         0           0         2            0   True   \n",
       "...              ...       ...         ...       ...          ...    ...   \n",
       "108376             1         1           0         2            1   True   \n",
       "109484             1         1           0         2            0   True   \n",
       "109733             0         0           0         2            1   True   \n",
       "109975             0         0           0         2            1   True   \n",
       "110107             0         0           0         2            1   True   \n",
       "\n",
       "        due_days  sch_weekday  app_weekday  \n",
       "946           15            3            4  \n",
       "1665          30            2            4  \n",
       "1666          30            2            4  \n",
       "2071           0            4            4  \n",
       "2091           0            4            4  \n",
       "...          ...          ...          ...  \n",
       "108376         6            2            1  \n",
       "109484         2            1            3  \n",
       "109733         4            4            1  \n",
       "109975         4            3            0  \n",
       "110107         4            3            0  \n",
       "\n",
       "[199 rows x 15 columns]"
      ]
     },
     "execution_count": 25,
     "metadata": {},
     "output_type": "execute_result"
    }
   ],
   "source": [
    "# Please display only the rows that have values greater than one for the handicap field.\n",
    "medical_appointments[medical_appointments['Handicap'] > 1 ]"
   ]
  },
  {
   "cell_type": "markdown",
   "id": "f0ce5556",
   "metadata": {},
   "source": [
    "- 199 rows with inconsistent handicap values need to be replaced with 1, indicating they are handicapped."
   ]
  },
  {
   "cell_type": "code",
   "execution_count": 26,
   "id": "b45ccefa",
   "metadata": {},
   "outputs": [
    {
     "data": {
      "text/plain": [
       "array([False,  True])"
      ]
     },
     "execution_count": 26,
     "metadata": {},
     "output_type": "execute_result"
    }
   ],
   "source": [
    "# Replace values greater than one with '1'\n",
    "medical_appointments.loc[medical_appointments['Handicap'].isin ([2, 3, 4]), 'Handicap'] = 1\n",
    "\n",
    "# Change to bool data type and confirm changes \n",
    "medical_appointments['Handicap'] = medical_appointments['Handicap'].astype(bool)\n",
    "medical_appointments['Handicap'].unique()"
   ]
  },
  {
   "cell_type": "markdown",
   "id": "10892732",
   "metadata": {},
   "source": [
    "**Convert `Schorlaship`, `Hypertension`, `Diabetes`, `Alcoholism` and `SMSReceived` to boolean**"
   ]
  },
  {
   "cell_type": "code",
   "execution_count": 27,
   "id": "042f238d",
   "metadata": {},
   "outputs": [
    {
     "data": {
      "text/plain": [
       "HealthCoverage    bool\n",
       "Hypertension      bool\n",
       "Diabetes          bool\n",
       "Alcoholism        bool\n",
       "SMSReceived       bool\n",
       "dtype: object"
      ]
     },
     "execution_count": 27,
     "metadata": {},
     "output_type": "execute_result"
    }
   ],
   "source": [
    "# convert these columns to bool \n",
    "cols = ['HealthCoverage', 'Hypertension', 'Diabetes', 'Alcoholism', 'SMSReceived']\n",
    "medical_appointments[cols] = medical_appointments[cols].astype('bool')\n",
    "medical_appointments[cols].dtypes "
   ]
  },
  {
   "cell_type": "code",
   "execution_count": 28,
   "id": "99eef982",
   "metadata": {},
   "outputs": [
    {
     "name": "stdout",
     "output_type": "stream",
     "text": [
      "<class 'pandas.core.frame.DataFrame'>\n",
      "Int64Index: 110522 entries, 0 to 110526\n",
      "Data columns (total 15 columns):\n",
      " #   Column          Non-Null Count   Dtype         \n",
      "---  ------          --------------   -----         \n",
      " 0   Gender          110522 non-null  category      \n",
      " 1   ScheduledDay    110522 non-null  datetime64[ns]\n",
      " 2   AppointmentDay  110522 non-null  datetime64[ns]\n",
      " 3   Age             110522 non-null  int64         \n",
      " 4   Neighbourhood   110522 non-null  object        \n",
      " 5   HealthCoverage  110522 non-null  bool          \n",
      " 6   Hypertension    110522 non-null  bool          \n",
      " 7   Diabetes        110522 non-null  bool          \n",
      " 8   Alcoholism      110522 non-null  bool          \n",
      " 9   Handicap        110522 non-null  bool          \n",
      " 10  SMSReceived     110522 non-null  bool          \n",
      " 11  NoShow          110522 non-null  category      \n",
      " 12  due_days        110522 non-null  int64         \n",
      " 13  sch_weekday     110522 non-null  int64         \n",
      " 14  app_weekday     110522 non-null  int64         \n",
      "dtypes: bool(6), category(2), datetime64[ns](2), int64(4), object(1)\n",
      "memory usage: 7.6+ MB\n"
     ]
    }
   ],
   "source": [
    "medical_appointments.info()"
   ]
  },
  {
   "cell_type": "markdown",
   "id": "a1df334c",
   "metadata": {},
   "source": [
    "#### Cleaning `Age` column \n"
   ]
  },
  {
   "cell_type": "code",
   "execution_count": 29,
   "id": "2d18fa07",
   "metadata": {},
   "outputs": [
    {
     "data": {
      "text/html": [
       "<div>\n",
       "<style scoped>\n",
       "    .dataframe tbody tr th:only-of-type {\n",
       "        vertical-align: middle;\n",
       "    }\n",
       "\n",
       "    .dataframe tbody tr th {\n",
       "        vertical-align: top;\n",
       "    }\n",
       "\n",
       "    .dataframe thead th {\n",
       "        text-align: right;\n",
       "    }\n",
       "</style>\n",
       "<table border=\"1\" class=\"dataframe\">\n",
       "  <thead>\n",
       "    <tr style=\"text-align: right;\">\n",
       "      <th></th>\n",
       "      <th>Gender</th>\n",
       "      <th>ScheduledDay</th>\n",
       "      <th>AppointmentDay</th>\n",
       "      <th>Age</th>\n",
       "      <th>Neighbourhood</th>\n",
       "      <th>HealthCoverage</th>\n",
       "      <th>Hypertension</th>\n",
       "      <th>Diabetes</th>\n",
       "      <th>Alcoholism</th>\n",
       "      <th>Handicap</th>\n",
       "      <th>SMSReceived</th>\n",
       "      <th>NoShow</th>\n",
       "      <th>due_days</th>\n",
       "      <th>sch_weekday</th>\n",
       "      <th>app_weekday</th>\n",
       "    </tr>\n",
       "  </thead>\n",
       "  <tbody>\n",
       "    <tr>\n",
       "      <th>99832</th>\n",
       "      <td>F</td>\n",
       "      <td>2016-06-06</td>\n",
       "      <td>2016-06-06</td>\n",
       "      <td>-1</td>\n",
       "      <td>ROMÃO</td>\n",
       "      <td>False</td>\n",
       "      <td>False</td>\n",
       "      <td>False</td>\n",
       "      <td>False</td>\n",
       "      <td>False</td>\n",
       "      <td>False</td>\n",
       "      <td>True</td>\n",
       "      <td>0</td>\n",
       "      <td>0</td>\n",
       "      <td>0</td>\n",
       "    </tr>\n",
       "  </tbody>\n",
       "</table>\n",
       "</div>"
      ],
      "text/plain": [
       "      Gender ScheduledDay AppointmentDay  Age Neighbourhood  HealthCoverage  \\\n",
       "99832      F   2016-06-06     2016-06-06   -1         ROMÃO           False   \n",
       "\n",
       "       Hypertension  Diabetes  Alcoholism  Handicap  SMSReceived NoShow  \\\n",
       "99832         False     False       False     False        False   True   \n",
       "\n",
       "       due_days  sch_weekday  app_weekday  \n",
       "99832         0            0            0  "
      ]
     },
     "execution_count": 29,
     "metadata": {},
     "output_type": "execute_result"
    }
   ],
   "source": [
    "# exploring values below 0 \n",
    "medical_appointments[medical_appointments['Age'] < 0]"
   ]
  },
  {
   "cell_type": "markdown",
   "id": "d63a4a02",
   "metadata": {},
   "source": [
    "- There is a negative Age value. "
   ]
  },
  {
   "cell_type": "code",
   "execution_count": 30,
   "id": "604e88a6",
   "metadata": {},
   "outputs": [
    {
     "data": {
      "text/html": [
       "<div>\n",
       "<style scoped>\n",
       "    .dataframe tbody tr th:only-of-type {\n",
       "        vertical-align: middle;\n",
       "    }\n",
       "\n",
       "    .dataframe tbody tr th {\n",
       "        vertical-align: top;\n",
       "    }\n",
       "\n",
       "    .dataframe thead th {\n",
       "        text-align: right;\n",
       "    }\n",
       "</style>\n",
       "<table border=\"1\" class=\"dataframe\">\n",
       "  <thead>\n",
       "    <tr style=\"text-align: right;\">\n",
       "      <th></th>\n",
       "      <th>Gender</th>\n",
       "      <th>ScheduledDay</th>\n",
       "      <th>AppointmentDay</th>\n",
       "      <th>Age</th>\n",
       "      <th>Neighbourhood</th>\n",
       "      <th>HealthCoverage</th>\n",
       "      <th>Hypertension</th>\n",
       "      <th>Diabetes</th>\n",
       "      <th>Alcoholism</th>\n",
       "      <th>Handicap</th>\n",
       "      <th>SMSReceived</th>\n",
       "      <th>NoShow</th>\n",
       "      <th>due_days</th>\n",
       "      <th>sch_weekday</th>\n",
       "      <th>app_weekday</th>\n",
       "    </tr>\n",
       "  </thead>\n",
       "  <tbody>\n",
       "  </tbody>\n",
       "</table>\n",
       "</div>"
      ],
      "text/plain": [
       "Empty DataFrame\n",
       "Columns: [Gender, ScheduledDay, AppointmentDay, Age, Neighbourhood, HealthCoverage, Hypertension, Diabetes, Alcoholism, Handicap, SMSReceived, NoShow, due_days, sch_weekday, app_weekday]\n",
       "Index: []"
      ]
     },
     "execution_count": 30,
     "metadata": {},
     "output_type": "execute_result"
    }
   ],
   "source": [
    "# Drop rows with negative age values\n",
    "medical_appointments.drop(medical_appointments[medical_appointments['Age'] < 0].index, inplace=True)\n",
    "\n",
    "# Confirm that no rows with negative age values remain\n",
    "negative_age_rows = medical_appointments[medical_appointments['Age'] < 0]\n",
    "negative_age_rows\n"
   ]
  },
  {
   "cell_type": "code",
   "execution_count": 31,
   "id": "3867eb27",
   "metadata": {},
   "outputs": [
    {
     "data": {
      "text/html": [
       "<div>\n",
       "<style scoped>\n",
       "    .dataframe tbody tr th:only-of-type {\n",
       "        vertical-align: middle;\n",
       "    }\n",
       "\n",
       "    .dataframe tbody tr th {\n",
       "        vertical-align: top;\n",
       "    }\n",
       "\n",
       "    .dataframe thead th {\n",
       "        text-align: right;\n",
       "    }\n",
       "</style>\n",
       "<table border=\"1\" class=\"dataframe\">\n",
       "  <thead>\n",
       "    <tr style=\"text-align: right;\">\n",
       "      <th></th>\n",
       "      <th>Gender</th>\n",
       "      <th>ScheduledDay</th>\n",
       "      <th>AppointmentDay</th>\n",
       "      <th>Age</th>\n",
       "      <th>Neighbourhood</th>\n",
       "      <th>HealthCoverage</th>\n",
       "      <th>Hypertension</th>\n",
       "      <th>Diabetes</th>\n",
       "      <th>Alcoholism</th>\n",
       "      <th>Handicap</th>\n",
       "      <th>SMSReceived</th>\n",
       "      <th>NoShow</th>\n",
       "      <th>due_days</th>\n",
       "      <th>sch_weekday</th>\n",
       "      <th>app_weekday</th>\n",
       "    </tr>\n",
       "  </thead>\n",
       "  <tbody>\n",
       "    <tr>\n",
       "      <th>0</th>\n",
       "      <td>F</td>\n",
       "      <td>2016-04-29</td>\n",
       "      <td>2016-04-29</td>\n",
       "      <td>62</td>\n",
       "      <td>JARDIM DA PENHA</td>\n",
       "      <td>False</td>\n",
       "      <td>True</td>\n",
       "      <td>False</td>\n",
       "      <td>False</td>\n",
       "      <td>False</td>\n",
       "      <td>False</td>\n",
       "      <td>True</td>\n",
       "      <td>0</td>\n",
       "      <td>4</td>\n",
       "      <td>4</td>\n",
       "    </tr>\n",
       "    <tr>\n",
       "      <th>1</th>\n",
       "      <td>M</td>\n",
       "      <td>2016-04-29</td>\n",
       "      <td>2016-04-29</td>\n",
       "      <td>56</td>\n",
       "      <td>JARDIM DA PENHA</td>\n",
       "      <td>False</td>\n",
       "      <td>False</td>\n",
       "      <td>False</td>\n",
       "      <td>False</td>\n",
       "      <td>False</td>\n",
       "      <td>False</td>\n",
       "      <td>True</td>\n",
       "      <td>0</td>\n",
       "      <td>4</td>\n",
       "      <td>4</td>\n",
       "    </tr>\n",
       "    <tr>\n",
       "      <th>2</th>\n",
       "      <td>F</td>\n",
       "      <td>2016-04-29</td>\n",
       "      <td>2016-04-29</td>\n",
       "      <td>62</td>\n",
       "      <td>MATA DA PRAIA</td>\n",
       "      <td>False</td>\n",
       "      <td>False</td>\n",
       "      <td>False</td>\n",
       "      <td>False</td>\n",
       "      <td>False</td>\n",
       "      <td>False</td>\n",
       "      <td>True</td>\n",
       "      <td>0</td>\n",
       "      <td>4</td>\n",
       "      <td>4</td>\n",
       "    </tr>\n",
       "    <tr>\n",
       "      <th>3</th>\n",
       "      <td>F</td>\n",
       "      <td>2016-04-29</td>\n",
       "      <td>2016-04-29</td>\n",
       "      <td>8</td>\n",
       "      <td>PONTAL DE CAMBURI</td>\n",
       "      <td>False</td>\n",
       "      <td>False</td>\n",
       "      <td>False</td>\n",
       "      <td>False</td>\n",
       "      <td>False</td>\n",
       "      <td>False</td>\n",
       "      <td>True</td>\n",
       "      <td>0</td>\n",
       "      <td>4</td>\n",
       "      <td>4</td>\n",
       "    </tr>\n",
       "    <tr>\n",
       "      <th>4</th>\n",
       "      <td>F</td>\n",
       "      <td>2016-04-29</td>\n",
       "      <td>2016-04-29</td>\n",
       "      <td>56</td>\n",
       "      <td>JARDIM DA PENHA</td>\n",
       "      <td>False</td>\n",
       "      <td>True</td>\n",
       "      <td>True</td>\n",
       "      <td>False</td>\n",
       "      <td>False</td>\n",
       "      <td>False</td>\n",
       "      <td>True</td>\n",
       "      <td>0</td>\n",
       "      <td>4</td>\n",
       "      <td>4</td>\n",
       "    </tr>\n",
       "  </tbody>\n",
       "</table>\n",
       "</div>"
      ],
      "text/plain": [
       "  Gender ScheduledDay AppointmentDay  Age      Neighbourhood  HealthCoverage  \\\n",
       "0      F   2016-04-29     2016-04-29   62    JARDIM DA PENHA           False   \n",
       "1      M   2016-04-29     2016-04-29   56    JARDIM DA PENHA           False   \n",
       "2      F   2016-04-29     2016-04-29   62      MATA DA PRAIA           False   \n",
       "3      F   2016-04-29     2016-04-29    8  PONTAL DE CAMBURI           False   \n",
       "4      F   2016-04-29     2016-04-29   56    JARDIM DA PENHA           False   \n",
       "\n",
       "   Hypertension  Diabetes  Alcoholism  Handicap  SMSReceived NoShow  due_days  \\\n",
       "0          True     False       False     False        False   True         0   \n",
       "1         False     False       False     False        False   True         0   \n",
       "2         False     False       False     False        False   True         0   \n",
       "3         False     False       False     False        False   True         0   \n",
       "4          True      True       False     False        False   True         0   \n",
       "\n",
       "   sch_weekday  app_weekday  \n",
       "0            4            4  \n",
       "1            4            4  \n",
       "2            4            4  \n",
       "3            4            4  \n",
       "4            4            4  "
      ]
     },
     "execution_count": 31,
     "metadata": {},
     "output_type": "execute_result"
    }
   ],
   "source": [
    "# view top 5 rows of the dataset \n",
    "medical_appointments.head()"
   ]
  },
  {
   "cell_type": "code",
   "execution_count": 32,
   "id": "413914d3",
   "metadata": {},
   "outputs": [
    {
     "name": "stdout",
     "output_type": "stream",
     "text": [
      "<class 'pandas.core.frame.DataFrame'>\n",
      "Int64Index: 110521 entries, 0 to 110526\n",
      "Data columns (total 15 columns):\n",
      " #   Column          Non-Null Count   Dtype         \n",
      "---  ------          --------------   -----         \n",
      " 0   Gender          110521 non-null  category      \n",
      " 1   ScheduledDay    110521 non-null  datetime64[ns]\n",
      " 2   AppointmentDay  110521 non-null  datetime64[ns]\n",
      " 3   Age             110521 non-null  int64         \n",
      " 4   Neighbourhood   110521 non-null  object        \n",
      " 5   HealthCoverage  110521 non-null  bool          \n",
      " 6   Hypertension    110521 non-null  bool          \n",
      " 7   Diabetes        110521 non-null  bool          \n",
      " 8   Alcoholism      110521 non-null  bool          \n",
      " 9   Handicap        110521 non-null  bool          \n",
      " 10  SMSReceived     110521 non-null  bool          \n",
      " 11  NoShow          110521 non-null  category      \n",
      " 12  due_days        110521 non-null  int64         \n",
      " 13  sch_weekday     110521 non-null  int64         \n",
      " 14  app_weekday     110521 non-null  int64         \n",
      "dtypes: bool(6), category(2), datetime64[ns](2), int64(4), object(1)\n",
      "memory usage: 7.6+ MB\n"
     ]
    }
   ],
   "source": [
    "medical_appointments.info()"
   ]
  },
  {
   "cell_type": "markdown",
   "id": "29896db6",
   "metadata": {},
   "source": [
    "##### The dataframe has been cleaned and now contains 110521 rows and 14 columns, ready for visualization and insightful analysis."
   ]
  },
  {
   "cell_type": "markdown",
   "id": "98245cd7",
   "metadata": {},
   "source": [
    "## Data Visualisation and EDA "
   ]
  },
  {
   "cell_type": "code",
   "execution_count": 33,
   "id": "373f3162",
   "metadata": {},
   "outputs": [],
   "source": [
    "# Set Seaborn configurations to use the \"whitegrid\" style\n",
    "sns.set_style(\"whitegrid\")\n"
   ]
  },
  {
   "cell_type": "markdown",
   "id": "617729f7",
   "metadata": {},
   "source": [
    "#### What is the frequency of hospital visits for men and women? Who is more likely to attend?"
   ]
  },
  {
   "cell_type": "code",
   "execution_count": 34,
   "id": "6c133f96",
   "metadata": {},
   "outputs": [
    {
     "data": {
      "image/png": "[encoded data removed]",
      "text/plain": [
       "<Figure size 576x432 with 1 Axes>"
      ]
     },
     "metadata": {},
     "output_type": "display_data"
    }
   ],
   "source": [
    "# using count plot show the gender distribution of medical appointments \n",
    "plt.figure(figsize=(8, 6))  # Set the figure size\n",
    "\n",
    "# Create a countplot to show the gender distribution\n",
    "sns.countplot(data=medical_appointments, x='Gender')\n",
    "\n",
    "# Add labels and a title\n",
    "plt.xlabel('Gender')\n",
    "plt.ylabel('Count')\n",
    "plt.title('Gender Distribution of Medical Appointments')\n",
    "\n",
    "# Show the plot\n",
    "plt.show()\n"
   ]
  },
  {
   "cell_type": "markdown",
   "id": "f3cf42dd",
   "metadata": {},
   "source": [
    "- More women than men are scheduling medical appointments. "
   ]
  },
  {
   "cell_type": "code",
   "execution_count": 35,
   "id": "4aa52135",
   "metadata": {},
   "outputs": [
    {
     "data": {
      "image/png": "[encoded data removed]",
      "text/plain": [
       "<Figure size 432x288 with 1 Axes>"
      ]
     },
     "metadata": {},
     "output_type": "display_data"
    }
   ],
   "source": [
    "# Show the distribution of ages\n",
    "\n",
    "# Create a histogram to visualize the age distribution\n",
    "medical_appointments['Age'].hist()\n",
    "\n",
    "# Add labels and a title to the plot\n",
    "plt.xlabel('Age')  # Label for the x-axis\n",
    "plt.ylabel('Count')  # Label for the y-axis\n",
    "plt.title(\"Age Distribution\")  # Title for the plot\n",
    "\n",
    "# Show the plot\n",
    "plt.show()"
   ]
  },
  {
   "cell_type": "markdown",
   "id": "7b7ab54b",
   "metadata": {},
   "source": [
    "- The majority of patients comprised children aged 0 to 10 years old, followed by individuals in the middle-aged group (40-50 years)."
   ]
  },
  {
   "cell_type": "code",
   "execution_count": 36,
   "id": "ab8ec94d",
   "metadata": {},
   "outputs": [
    {
     "data": {
      "image/png": "[encoded data removed]",
      "text/plain": [
       "<Figure size 432x288 with 1 Axes>"
      ]
     },
     "metadata": {},
     "output_type": "display_data"
    }
   ],
   "source": [
    "# Create a boxplot to show the gender distribution against age \n",
    "sns.boxplot(x = 'Gender', y = 'Age', data = medical_appointments)\n",
    "\n",
    "# Add labels and a title\n",
    "plt.xlabel('Gender')\n",
    "plt.ylabel('Age')\n",
    "plt.title(\"Gender Distribution against Age\")\n",
    "\n",
    "# Show the plot\n",
    "plt.show()"
   ]
  },
  {
   "cell_type": "markdown",
   "id": "65ceb7d6",
   "metadata": {},
   "source": [
    "- The age distribution of women is wider compared to men and includes some outliers."
   ]
  },
  {
   "cell_type": "code",
   "execution_count": 37,
   "id": "ddfd2a08",
   "metadata": {},
   "outputs": [
    {
     "data": {
      "text/plain": [
       "True     88207\n",
       "False    22314\n",
       "Name: NoShow, dtype: int64"
      ]
     },
     "execution_count": 37,
     "metadata": {},
     "output_type": "execute_result"
    }
   ],
   "source": [
    "# Count the occurrences of each category in the 'NoShow' column\n",
    "medical_appointments['NoShow'].value_counts()"
   ]
  },
  {
   "cell_type": "code",
   "execution_count": 38,
   "id": "d7ff35c4",
   "metadata": {},
   "outputs": [
    {
     "name": "stdout",
     "output_type": "stream",
     "text": [
      "True     79.810172\n",
      "False    20.189828\n",
      "Name: NoShow, dtype: float64\n"
     ]
    }
   ],
   "source": [
    "no_show_counts = medical_appointments['NoShow'].value_counts()\n",
    "# Calculate the percentage of each category\n",
    "percentage_no_show = (no_show_counts / len(medical_appointments)) * 100\n",
    "\n",
    "# Display the percentages\n",
    "print(percentage_no_show)"
   ]
  },
  {
   "cell_type": "markdown",
   "id": "0bd2487a",
   "metadata": {},
   "source": [
    "- Approximately 80% of patients attended their appointments, with only 20% missing them."
   ]
  },
  {
   "cell_type": "markdown",
   "id": "2927ec5e",
   "metadata": {},
   "source": [
    "**Examine the distribution of `Gender` in relation to `NoShow`.**"
   ]
  },
  {
   "cell_type": "code",
   "execution_count": 39,
   "id": "2e6ec0ef",
   "metadata": {},
   "outputs": [
    {
     "data": {
      "image/png": "[encoded data removed]",
      "text/plain": [
       "<Figure size 432x288 with 1 Axes>"
      ]
     },
     "metadata": {},
     "output_type": "display_data"
    }
   ],
   "source": [
    "# show the gender distribution with respect to the NoShow of patients \n",
    "# Create a countplot to show the gender distribution in relation to NoShow\n",
    "sns.countplot(data=medical_appointments, x='Gender', hue = 'NoShow')\n",
    "\n",
    "# Add labels and a title\n",
    "plt.xlabel('Gender')\n",
    "plt.ylabel('Count')\n",
    "plt.title('Gender Distribution with No Show of Patients to Medical Appointments')\n",
    "\n",
    "# Show the plot\n",
    "plt.show()"
   ]
  },
  {
   "cell_type": "markdown",
   "id": "ec44f565",
   "metadata": {},
   "source": [
    "- Based on the available data, women are more likely to show up for their appointments than men. However, this could be due to a higher percentage of women scheduling appointments."
   ]
  },
  {
   "cell_type": "markdown",
   "id": "30b1221c",
   "metadata": {},
   "source": [
    "**Is there evidence that receiving SMS reminders increases the likelihood of patients showing up for appointments?Is there any correlation with the number of days before the appointment?**"
   ]
  },
  {
   "cell_type": "code",
   "execution_count": 40,
   "id": "81ebdf95",
   "metadata": {},
   "outputs": [
    {
     "data": {
      "image/png": "[encoded data removed]",
      "text/plain": [
       "<Figure size 432x288 with 1 Axes>"
      ]
     },
     "metadata": {},
     "output_type": "display_data"
    }
   ],
   "source": [
    "# show how many patients receieved an SMS Reminder\n",
    "# Create a countplot of receieving SMS distribution using the medical_appointments dataset\n",
    "sns.countplot(data=medical_appointments, x='SMSReceived')\n",
    "\n",
    "# Add labels and a title\n",
    "plt.xlabel('SMSReceived')\n",
    "plt.ylabel('Count')\n",
    "plt.title('SMS Received Distribution')\n",
    "\n",
    "# Show the plot\n",
    "plt.show()"
   ]
  },
  {
   "cell_type": "code",
   "execution_count": 41,
   "id": "3ebbb1a3",
   "metadata": {},
   "outputs": [
    {
     "data": {
      "text/plain": [
       "False    75039\n",
       "True     35482\n",
       "Name: SMSReceived, dtype: int64"
      ]
     },
     "execution_count": 41,
     "metadata": {},
     "output_type": "execute_result"
    }
   ],
   "source": [
    "# how many patients received or didnt recieve SMS reminders? \n",
    "medical_appointments['SMSReceived'].value_counts()"
   ]
  },
  {
   "cell_type": "code",
   "execution_count": 42,
   "id": "7cdd7780",
   "metadata": {},
   "outputs": [
    {
     "name": "stdout",
     "output_type": "stream",
     "text": [
      "False    67.895694\n",
      "True     32.104306\n",
      "Name: SMSReceived, dtype: float64\n"
     ]
    }
   ],
   "source": [
    "SMSReceived_counts = medical_appointments['SMSReceived'].value_counts()\n",
    "# Calculate the percentage of each category\n",
    "percentage_SMSReceived = (SMSReceived_counts / len(medical_appointments)) * 100\n",
    "\n",
    "# Display the percentages\n",
    "print(percentage_SMSReceived)"
   ]
  },
  {
   "cell_type": "markdown",
   "id": "1fb8b41c",
   "metadata": {},
   "source": [
    "- 67.8% of patients did not receive any SMS reminders of their appointments. This could be a reason why they do not show up, as they might have forgotten about it. "
   ]
  },
  {
   "cell_type": "code",
   "execution_count": 43,
   "id": "90d44fa5",
   "metadata": {},
   "outputs": [
    {
     "data": {
      "image/png": "[encoded data removed]",
      "text/plain": [
       "<Figure size 432x288 with 1 Axes>"
      ]
     },
     "metadata": {},
     "output_type": "display_data"
    }
   ],
   "source": [
    "# show the if receiving an SMS correlates with patients not showing up for their appointment\n",
    "# Create a countplot to show the gender distribution in relation to NoShow\n",
    "sns.countplot(data=medical_appointments, x='SMSReceived', hue = 'NoShow')\n",
    "\n",
    "# Add labels and a title\n",
    "plt.xlabel('SMSReceived')\n",
    "plt.ylabel('Count')\n",
    "plt.title('SMSReceived Distribution with respect to No Show of patients to Medical Appointments')\n",
    "\n",
    "# Show the plot\n",
    "plt.show()"
   ]
  },
  {
   "cell_type": "markdown",
   "id": "8a9a22a3",
   "metadata": {},
   "source": [
    "- It appears that the majority of patients who attended their medical appointment did not receive a reminder SMS, which contradicts our previous finding. "
   ]
  },
  {
   "cell_type": "code",
   "execution_count": 44,
   "id": "4177e76f",
   "metadata": {},
   "outputs": [
    {
     "data": {
      "image/png": "[encoded data removed]",
      "text/plain": [
       "<Figure size 432x288 with 1 Axes>"
      ]
     },
     "metadata": {},
     "output_type": "display_data"
    }
   ],
   "source": [
    "# show the correlation between NoShow and the number of days before the appointments\n",
    "\n",
    "# Create a boxplot to show the relationship between NoShow and due_days without outliers\n",
    "sns.boxplot(x='NoShow', y='due_days', data=medical_appointments, showfliers=False)\n",
    "\n",
    "# Add labels and a title to the plot\n",
    "plt.xlabel('NoShow')  # Label for the x-axis\n",
    "plt.ylabel('due_days')  # Label for the y-axis\n",
    "plt.title(\"Relationship between No Show and Due days\")  # Title for the plot\n",
    "\n",
    "# Show the plot\n",
    "plt.show()\n"
   ]
  },
  {
   "cell_type": "markdown",
   "id": "b37a31fb",
   "metadata": {},
   "source": [
    "- The data suggests that there is a correlation between the number of days between scheduling an appointment and the actual appointment date, and the likelihood of a patient being a no-show.\n",
    "- Patients with appointments scheduled within 30 days are more likely to show up compared to those with longer wait times. "
   ]
  },
  {
   "cell_type": "code",
   "execution_count": 45,
   "id": "1ede80c4",
   "metadata": {},
   "outputs": [
    {
     "data": {
      "image/png": "[encoded data removed]",
      "text/plain": [
       "<Figure size 432x288 with 1 Axes>"
      ]
     },
     "metadata": {},
     "output_type": "display_data"
    }
   ],
   "source": [
    "# show the correlation between No Show and due days with respect to gender\n",
    "\n",
    "# Create a boxplot to show the relationship between NoShow and due_days without outliers with respect to gender\n",
    "sns.boxplot(x='NoShow', y='due_days', data=medical_appointments, hue = 'Gender', showfliers=False)\n",
    "\n",
    "# Add labels and a title to the plot\n",
    "plt.xlabel('NoShow')  # Label for the x-axis\n",
    "plt.ylabel('due_days')  # Label for the y-axis\n",
    "plt.title(\"Relationship between No Show and Due days with respect to Gender\")  # Title for the plot\n",
    "\n",
    "# Show the plot\n",
    "plt.show()"
   ]
  },
  {
   "cell_type": "markdown",
   "id": "cb8ec61b",
   "metadata": {},
   "source": [
    "- Gender does not have an impact on the rate of patient no-shows or the number of days overdue for appointments."
   ]
  },
  {
   "cell_type": "markdown",
   "id": "eb1ef982",
   "metadata": {},
   "source": [
    "**Does having health coverage impact no-show rates for medical appointments? Which gender groups are affected?** "
   ]
  },
  {
   "cell_type": "code",
   "execution_count": 46,
   "id": "666f8dcd",
   "metadata": {},
   "outputs": [
    {
     "data": {
      "text/plain": [
       "False    99660\n",
       "True     10861\n",
       "Name: HealthCoverage, dtype: int64"
      ]
     },
     "execution_count": 46,
     "metadata": {},
     "output_type": "execute_result"
    }
   ],
   "source": [
    "# How many patients have health coverage or not? \n",
    "medical_appointments['HealthCoverage'].value_counts()"
   ]
  },
  {
   "cell_type": "code",
   "execution_count": 47,
   "id": "a24a9be5",
   "metadata": {},
   "outputs": [
    {
     "name": "stdout",
     "output_type": "stream",
     "text": [
      "False    90.172908\n",
      "True      9.827092\n",
      "Name: HealthCoverage, dtype: float64\n"
     ]
    }
   ],
   "source": [
    "HealthCoverage_counts = medical_appointments['HealthCoverage'].value_counts()\n",
    "# Calculate the percentage of each category\n",
    "percentage_HealthCoverage = (HealthCoverage_counts / len(medical_appointments)) * 100\n",
    "\n",
    "# Display the percentages\n",
    "print(percentage_HealthCoverage)"
   ]
  },
  {
   "cell_type": "code",
   "execution_count": 48,
   "id": "0fc0c7a4",
   "metadata": {},
   "outputs": [
    {
     "data": {
      "image/png": "[encoded data removed]",
      "text/plain": [
       "<Figure size 432x288 with 1 Axes>"
      ]
     },
     "metadata": {},
     "output_type": "display_data"
    }
   ],
   "source": [
    "# show how many patients have Health Coverage \n",
    "# Create a countplot of Health Coverage distribution using the medical_appointments dataset\n",
    "sns.countplot(data=medical_appointments, x='HealthCoverage')\n",
    "\n",
    "# Add labels and a title\n",
    "plt.xlabel('Health Coverage')\n",
    "plt.ylabel('Count')\n",
    "plt.title('Health Coverage Distribution')\n",
    "\n",
    "# Show the plot\n",
    "plt.show()"
   ]
  },
  {
   "cell_type": "markdown",
   "id": "a403442c",
   "metadata": {},
   "source": [
    "- Based on this data only about 10000 patients have Health Coverage "
   ]
  },
  {
   "cell_type": "code",
   "execution_count": 63,
   "id": "1e7e2250",
   "metadata": {},
   "outputs": [
    {
     "data": {
      "image/png": "[encoded data removed]",
      "text/plain": [
       "<Figure size 864x432 with 1 Axes>"
      ]
     },
     "metadata": {},
     "output_type": "display_data"
    }
   ],
   "source": [
    "# show the Age Distribution in relation to Health Coverage \n",
    "# Set the figure size\n",
    "plt.figure(figsize=(12, 6))\n",
    "\n",
    "# Create a histogram to visualize the age distribution with respect to health coverage\n",
    "plt.hist([medical_appointments[medical_appointments['HealthCoverage'] == 0]['Age'], \n",
    "          medical_appointments[medical_appointments['HealthCoverage'] == 1]['Age']],\n",
    "         bins=20, stacked=True, label=['No Health Coverage', 'With Health Coverage'])\n",
    "\n",
    "# Add labels and a title to the plot\n",
    "plt.xlabel('Age')  # Label for the x-axis\n",
    "plt.ylabel('Count')  # Label for the y-axis\n",
    "plt.title('Age Distribution in relation to Health Coverage')  # Title for the plot\n",
    "plt.legend()  # Add legend for health coverage\n",
    "\n",
    "# Show the plot\n",
    "plt.show()"
   ]
  },
  {
   "cell_type": "markdown",
   "id": "17a477f6",
   "metadata": {},
   "source": [
    "- Babies have the highest health coverage. This shows that a large number of parents enroll their babies for health coverage "
   ]
  },
  {
   "cell_type": "code",
   "execution_count": 50,
   "id": "da31e2ab",
   "metadata": {},
   "outputs": [
    {
     "data": {
      "image/png": "[encoded data removed]",
      "text/plain": [
       "<Figure size 432x288 with 1 Axes>"
      ]
     },
     "metadata": {},
     "output_type": "display_data"
    }
   ],
   "source": [
    "# Show the Gender Distribution that has Health Coverage\n",
    "\n",
    "# Create a count plot to visualize the distribution of Health Coverage within each Gender category\n",
    "sns.countplot(x='HealthCoverage', hue='Gender', data=medical_appointments)\n",
    "\n",
    "# Add labels and a title to the plot\n",
    "plt.xlabel('Health Coverage')  # Label for the x-axis\n",
    "plt.ylabel('Count')  # Label for the y-axis\n",
    "plt.title(\"Distribution of Health Coverage by Gender\")  # Title for the plot\n",
    "\n",
    "# Show the plot\n",
    "plt.show()\n"
   ]
  },
  {
   "cell_type": "markdown",
   "id": "3cdf174d",
   "metadata": {},
   "source": [
    "- Women had a higher rate of health coverage compared to men."
   ]
  },
  {
   "cell_type": "code",
   "execution_count": 51,
   "id": "666eb16d",
   "metadata": {},
   "outputs": [
    {
     "data": {
      "image/png": "[encoded data removed]",
      "text/plain": [
       "<Figure size 432x288 with 1 Axes>"
      ]
     },
     "metadata": {},
     "output_type": "display_data"
    }
   ],
   "source": [
    "# Show if having Health Coverage has an impact on the No show and Gender\n",
    "\n",
    "# Create a countplot to visualize the relationship between having Health Coverage and NoShow with respect to gender\n",
    "sns.countplot(x='HealthCoverage', data=medical_appointments, hue='Gender')\n",
    "\n",
    "# Add labels and a title to the plot\n",
    "plt.xlabel('Health Coverage')  # Label for the x-axis\n",
    "plt.ylabel('NoShow')  # Label for the y-axis\n",
    "plt.title(\"Impact of Health Coverage on NoShow with respect to Gender\")  # Title for the plot\n",
    "\n",
    "# Show the plot\n",
    "plt.show()"
   ]
  },
  {
   "cell_type": "markdown",
   "id": "1f229a5a",
   "metadata": {},
   "source": [
    "- The No Show rate is not affected by having health coverage."
   ]
  },
  {
   "cell_type": "markdown",
   "id": "78e6fce6",
   "metadata": {},
   "source": [
    "**Which diseases had the highest number of missed appointments? Is it affected by the patient's age?**"
   ]
  },
  {
   "cell_type": "markdown",
   "id": "a8bdacaf",
   "metadata": {},
   "source": [
    "**Show the correlation between `Hypertension`, `Diabetes`, `Alcoholism` and `Handicap`**"
   ]
  },
  {
   "cell_type": "code",
   "execution_count": 52,
   "id": "dbadda44",
   "metadata": {},
   "outputs": [
    {
     "data": {
      "image/png": "[encoded data removed]",
      "text/plain": [
       "<Figure size 1080x720 with 4 Axes>"
      ]
     },
     "metadata": {},
     "output_type": "display_data"
    }
   ],
   "source": [
    "# Plot the impact of diseases on No Show\n",
    "\n",
    "# Set the figure size\n",
    "plt.figure(figsize=(15, 10))\n",
    "\n",
    "# Plot Hypertension\n",
    "plt.subplot(2, 2, 1)\n",
    "sns.countplot(x='Hypertension', data=medical_appointments, hue='NoShow')\n",
    "plt.xlabel('Hypertension')  # Label for the x-axis\n",
    "plt.ylabel('Count')  # Label for the y-axis\n",
    "plt.title('Impact of Hypertension on No Show')  # Title for the subplot\n",
    "\n",
    "# Plot Diabetes\n",
    "plt.subplot(2, 2, 2)\n",
    "sns.countplot(x='Diabetes', data=medical_appointments, hue='NoShow')\n",
    "plt.xlabel('Diabetes')  # Label for the x-axis\n",
    "plt.ylabel('Count')  # Label for the y-axis\n",
    "plt.title('Impact of Diabetes on No Show')  # Title for the subplot\n",
    "\n",
    "# Plot Alcoholism\n",
    "plt.subplot(2, 2, 3)\n",
    "sns.countplot(x='Alcoholism', data=medical_appointments, hue='NoShow')\n",
    "plt.xlabel('Alcoholism')  # Label for the x-axis\n",
    "plt.ylabel('Count')  # Label for the y-axis\n",
    "plt.title('Impact of Alcoholism on No Show')  # Title for the subplot\n",
    "\n",
    "# Plot Handicap\n",
    "plt.subplot(2, 2, 4)\n",
    "sns.countplot(x='Handicap', data=medical_appointments, hue='NoShow')\n",
    "plt.xlabel('Handicap')  # Label for the x-axis\n",
    "plt.ylabel('Count')  # Label for the y-axis\n",
    "plt.title('Impact of Handicap on No Show')  # Title for the subplot\n",
    "\n",
    "# Adjust layout to prevent overlap\n",
    "plt.tight_layout()\n",
    "\n",
    "# Show the plot\n",
    "plt.show()"
   ]
  },
  {
   "cell_type": "markdown",
   "id": "0eafafcb",
   "metadata": {},
   "source": [
    "- Hypertension, diabetes, alcoholism, and handicap patients have the highest number of missed appointments in that order.\n",
    "- Patients with hypertension have a missed appointment rate that is more than 50% higher compared to patients with other diseases. "
   ]
  },
  {
   "cell_type": "code",
   "execution_count": 53,
   "id": "cc921290",
   "metadata": {},
   "outputs": [
    {
     "data": {
      "image/png": "[encoded data removed]",
      "text/plain": [
       "<Figure size 1080x720 with 4 Axes>"
      ]
     },
     "metadata": {},
     "output_type": "display_data"
    }
   ],
   "source": [
    "# Plot the impact of diseases on No Show with respect to Age\n",
    "\n",
    "# Set the figure size\n",
    "plt.figure(figsize=(15, 10))\n",
    "\n",
    "# Plot Hypertension\n",
    "plt.subplot(2, 2, 1)\n",
    "sns.barplot(x='Hypertension', y='Age', data=medical_appointments, hue='NoShow')\n",
    "plt.xlabel('Hypertension')  # Label for the x-axis\n",
    "plt.ylabel('Age')  # Label for the y-axis\n",
    "plt.title('Impact of Hypertension on No Show in relation to Age')  # Title for the subplot\n",
    "\n",
    "# Plot Diabetes\n",
    "plt.subplot(2, 2, 2)\n",
    "sns.barplot(x='Diabetes', y='Age', data=medical_appointments, hue='NoShow')\n",
    "plt.xlabel('Diabetes')  # Label for the x-axis\n",
    "plt.ylabel('Age')  # Label for the y-axis\n",
    "plt.title('Impact of Diabetes on No Show in relation to Age')  # Title for the subplot\n",
    "\n",
    "# Plot Alcoholism\n",
    "plt.subplot(2, 2, 3)\n",
    "sns.barplot(x='Alcoholism', y='Age', data=medical_appointments, hue='NoShow')\n",
    "plt.xlabel('Alcoholism')  # Label for the x-axis\n",
    "plt.ylabel('Age')  # Label for the y-axis\n",
    "plt.title('Impact of Alcoholism on No Show in relation to Age')  # Title for the subplot\n",
    "\n",
    "# Plot Handicap\n",
    "plt.subplot(2, 2, 4)\n",
    "sns.barplot(x='Handicap', y='Age', data=medical_appointments, hue='NoShow')\n",
    "plt.xlabel('Handicap')  # Label for the x-axis\n",
    "plt.ylabel('Age')  # Label for the y-axis\n",
    "plt.title('Impact of Handicap on No Show in relation to Age')  # Title for the subplot\n",
    "\n",
    "# Adjust layout to prevent overlap\n",
    "plt.tight_layout()\n",
    "\n",
    "# Show the plot\n",
    "plt.show()"
   ]
  },
  {
   "cell_type": "markdown",
   "id": "3c66332a",
   "metadata": {},
   "source": [
    "- This demonstrates that even young patients have chronic illnesses which may lead to missed medical appointments. \n",
    "- The rate of no-shows across all four diseases is similar regardless of age. "
   ]
  },
  {
   "cell_type": "markdown",
   "id": "d0e84671",
   "metadata": {},
   "source": [
    "**What day of the week has the highest number of booked appointments and also the highest rate of missed appointments?** "
   ]
  },
  {
   "cell_type": "code",
   "execution_count": 54,
   "id": "dff671a4",
   "metadata": {},
   "outputs": [
    {
     "data": {
      "text/plain": [
       "Wednesday    25866\n",
       "Tuesday      25638\n",
       "Monday       22713\n",
       "Friday       19019\n",
       "Thursday     17246\n",
       "Saturday        39\n",
       "Name: AppointmentDay, dtype: int64"
      ]
     },
     "execution_count": 54,
     "metadata": {},
     "output_type": "execute_result"
    }
   ],
   "source": [
    "medical_appointments['AppointmentDay'].dt.day_name().value_counts()"
   ]
  },
  {
   "cell_type": "code",
   "execution_count": 55,
   "id": "17fedd4a",
   "metadata": {
    "scrolled": true
   },
   "outputs": [
    {
     "data": {
      "image/png": "[encoded data removed]",
      "text/plain": [
       "<Figure size 720x432 with 1 Axes>"
      ]
     },
     "metadata": {},
     "output_type": "display_data"
    }
   ],
   "source": [
    "# show the day with highest number of appointments \n",
    "# Set the figure size\n",
    "plt.figure(figsize=(10, 6))\n",
    "\n",
    "# Count the number of appointments for each day\n",
    "appointment_counts = medical_appointments['AppointmentDay'].dt.day_name().value_counts()\n",
    "\n",
    "# Create a bar plot to visualize the number of appointments for each day\n",
    "sns.barplot(x=appointment_counts.index, y=appointment_counts.values, palette='viridis')\n",
    "\n",
    "# Add labels and a title to the plot\n",
    "plt.xlabel('Day of the Week')  # Label for the x-axis\n",
    "plt.ylabel('Number of Appointments')  # Label for the y-axis\n",
    "plt.title('Number of Appointments for Each Day')  # Title for the plot\n",
    "\n",
    "# Show the plot\n",
    "plt.show()\n"
   ]
  },
  {
   "cell_type": "markdown",
   "id": "d7de9941",
   "metadata": {},
   "source": [
    "- Wednesday is the day with the highest number of appointments, followed by Tuesday.\n",
    "- It possible that Wednesday is the busiest day for appointments at the hospital.\n",
    "- There are no appointments for sunday. "
   ]
  },
  {
   "cell_type": "code",
   "execution_count": 58,
   "id": "3486ee0b",
   "metadata": {},
   "outputs": [
    {
     "data": {
      "image/png": "[encoded data removed]",
      "text/plain": [
       "<Figure size 432x288 with 1 Axes>"
      ]
     },
     "metadata": {},
     "output_type": "display_data"
    }
   ],
   "source": [
    "# Convert categorical variable to numerical format (if needed)\n",
    "medical_appointments['NoShow'] = medical_appointments['NoShow'].astype('int')\n",
    "\n",
    "# Calculate the No-Show rate for each day\n",
    "NoShow_rate_by_day = medical_appointments.groupby(medical_appointments['AppointmentDay'].dt.day_name())['NoShow'].count()\n",
    "\n",
    "# Create a bar plot to visualize the No-Show rate for each day\n",
    "sns.barplot(x=NoShow_rate_by_day.index, y=NoShow_rate_by_day.values, palette='muted')\n",
    "\n",
    "# Add labels and a title to the plot\n",
    "plt.xlabel('Day of the Week')  # Label for the x-axis\n",
    "plt.ylabel('NoShow Rate')  # Label for the y-axis\n",
    "plt.title('No Show Rate for Each Day')  # Title for the plot\n",
    "\n",
    "# Show the plot\n",
    "plt.show()\n"
   ]
  },
  {
   "cell_type": "markdown",
   "id": "1f4f04e5",
   "metadata": {},
   "source": [
    "- Wednesday and Tuesday have the highest number of missed appointments. This may be due to the high volume of appointments scheduled on these days. \n",
    "- Saturday has the lowest missed appointment rate, likely due to the small number of appointments scheduled on that day (39)."
   ]
  },
  {
   "cell_type": "markdown",
   "id": "32531a21",
   "metadata": {},
   "source": [
    "## Insights "
   ]
  },
  {
   "cell_type": "markdown",
   "id": "600f0c93",
   "metadata": {},
   "source": [
    "- From this dataset, women booked the most appointments, over 50% more than men.\n",
    "- With age distribution wider than men, which includes some outliers.\n",
    "- 79.8% of patients actually showed up to their appointment \n",
    "- The data showed more women making it to their medical appointments; this might be because more women booked appointments \n",
    "- Surprisingly, approximately 68% of patients who attended appointments did not receive SMS reminders.\n",
    "- Patients who scheduled appointments for more than 30 days were more likely to miss their appointments.\n",
    "- There was no difference in the number of days before an appointment and the frequency of missed appointments based on gender.\n",
    "- Only about 10000 patients had Health Coverage\n",
    "- Babies are the major enrollees in the Health Coverage program; most parents ensure their babies have health coverage. \n",
    "- Having health coverage had no bearing on the rate of missed appointments \n",
    "- Patients with high blood pressure had the highest rate of missed appointments.\n",
    "- It seems that even young children suffer from chronic diseases and end up missing their appointments.\n",
    "- Wednesdays and Tuesdays have the highest number of appointments booked, indicating that these may be the busiest days at the hospital.\n"
   ]
  },
  {
   "cell_type": "code",
   "execution_count": null,
   "id": "f0456e79",
   "metadata": {},
   "outputs": [],
   "source": []
  }
 ],
 "metadata": {
  "kernelspec": {
   "display_name": "Python 3 (ipykernel)",
   "language": "python",
   "name": "python3"
  },
  "language_info": {
   "codemirror_mode": {
    "name": "ipython",
    "version": 3
   },
   "file_extension": ".py",
   "mimetype": "text/x-python",
   "name": "python",
   "nbconvert_exporter": "python",
   "pygments_lexer": "ipython3",
   "version": "3.9.12"
  }
 },
 "nbformat": 4,
 "nbformat_minor": 5
}
